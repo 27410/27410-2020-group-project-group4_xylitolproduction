{
 "cells": [
  {
   "cell_type": "markdown",
   "metadata": {},
   "source": [
    "1. Run model as it is"
   ]
  },
  {
   "cell_type": "code",
   "execution_count": 5,
   "metadata": {},
   "outputs": [
    {
     "name": "stdout",
     "output_type": "stream",
     "text": [
      "0.08374770604149198\n"
     ]
    }
   ],
   "source": [
    "from cobra.io import read_sbml_model\n",
    "from cobra import Reaction, Metabolite\n",
    "\n",
    "model = read_sbml_model('yeastGEM.xml')\n",
    "model.optimize()\n",
    "print(model.objective.value)\n",
    "\n"
   ]
  },
  {
   "cell_type": "markdown",
   "metadata": {},
   "source": [
    "2. Check model with memote"
   ]
  },
  {
   "cell_type": "code",
   "execution_count": 8,
   "metadata": {},
   "outputs": [
    {
     "name": "stdout",
     "output_type": "stream",
     "text": [
      "\u001b[1m============================= test session starts ==============================\u001b[0m\n",
      "platform linux -- Python 3.6.12, pytest-6.1.2, py-1.9.0, pluggy-0.13.1\n",
      "rootdir: /usr/local/lib/python3.6/dist-packages/memote/suite/tests\n",
      "collected 146 items / 1 skipped / 145 selected                                 \u001b[0m\n",
      "\n",
      "../../../usr/local/lib/python3.6/dist-packages/memote/suite/tests/test_annotation.py \u001b[32m.\u001b[0m\u001b[32m [  0%]\n",
      "\u001b[0m\u001b[32m.\u001b[0m\u001b[32m.\u001b[0m\u001b[31mF\u001b[0m\u001b[31mF\u001b[0m\u001b[31mF\u001b[0m\u001b[31mF\u001b[0m\u001b[31mF\u001b[0m\u001b[31mF\u001b[0m\u001b[31mF\u001b[0m\u001b[31mF\u001b[0m\u001b[31mF\u001b[0m\u001b[31mF\u001b[0m\u001b[31mF\u001b[0m\u001b[31mF\u001b[0m\u001b[31mF\u001b[0m\u001b[31mF\u001b[0m\u001b[31mF\u001b[0m\u001b[31mF\u001b[0m\u001b[31mF\u001b[0m\u001b[31mF\u001b[0m\u001b[31mF\u001b[0m\u001b[31mF\u001b[0m\u001b[31mF\u001b[0m\u001b[31mF\u001b[0m\u001b[31mF\u001b[0m\u001b[31mF\u001b[0m\u001b[31mF\u001b[0m\u001b[31mF\u001b[0m\u001b[31mF\u001b[0m\u001b[31mF\u001b[0m\u001b[31mF\u001b[0m\u001b[31mF\u001b[0m\u001b[31mF\u001b[0m\u001b[32m.\u001b[0m\u001b[31mF\u001b[0m\u001b[31mF\u001b[0m\u001b[31mF\u001b[0m\u001b[32m.\u001b[0m\u001b[31mF\u001b[0m\u001b[31mF\u001b[0m\u001b[32m.\u001b[0m\u001b[32m.\u001b[0m\u001b[31mF\u001b[0m\u001b[31mF\u001b[0m\u001b[32m.\u001b[0m\u001b[31mF\u001b[0m\u001b[32m.\u001b[0m\u001b[32m.\u001b[0m\u001b[31mF\u001b[0m\u001b[32m.\u001b[0m\u001b[31mF\u001b[0m\u001b[31mF\u001b[0m\u001b[31mF\u001b[0m\u001b[31mF\u001b[0m\u001b[31mF\u001b[0m\u001b[31mF\u001b[0m\u001b[31mF\u001b[0m\u001b[31mF\u001b[0m\u001b[31mF\u001b[0m\u001b[31mF\u001b[0m\u001b[31mF\u001b[0m\u001b[31mF\u001b[0m\u001b[31mF\u001b[0m\u001b[32m.\u001b[0m\u001b[31m         [ 44%]\u001b[0m\n",
      "../../../usr/local/lib/python3.6/dist-packages/memote/suite/tests/test_basic.py \u001b[32m.\u001b[0m\u001b[31m [ 45%]\n",
      "\u001b[0m\u001b[32m.\u001b[0m\u001b[32m.\u001b[0m\u001b[32m.\u001b[0m\u001b[32m.\u001b[0m\u001b[32m.\u001b[0m\u001b[31mF\u001b[0m\u001b[32m.\u001b[0m\u001b[32m.\u001b[0m\u001b[32m.\u001b[0m\u001b[32m.\u001b[0m\u001b[32m.\u001b[0m\u001b[32m.\u001b[0m\u001b[32m.\u001b[0m\u001b[32m.\u001b[0m\u001b[31mF\u001b[0m\u001b[32m.\u001b[0m\u001b[31mF\u001b[0m\u001b[32m.\u001b[0m\u001b[31mF\u001b[0m\u001b[32m.\u001b[0m\u001b[31mF\u001b[0m\u001b[31mF\u001b[0m\u001b[31m                                                   [ 60%]\u001b[0m\n",
      "../../../usr/local/lib/python3.6/dist-packages/memote/suite/tests/test_biomass.py \u001b[32m.\u001b[0m\u001b[31m [ 60%]\n",
      "\u001b[0m\u001b[31mF\u001b[0m\u001b[32m.\u001b[0m\u001b[32m.\u001b[0m\u001b[32m.\u001b[0m\u001b[32m.\u001b[0m\u001b[32m.\u001b[0m\u001b[31mF\u001b[0m\u001b[32m.\u001b[0m\u001b[31mF\u001b[0m\u001b[31m                                                                [ 67%]\u001b[0m\n",
      "../../../usr/local/lib/python3.6/dist-packages/memote/suite/tests/test_consistency.py \u001b[31mF\u001b[0m\u001b[31m [ 67%]\n",
      "\u001b[0m\u001b[31mF\u001b[0m\u001b[31mF\u001b[0m\u001b[33ms\u001b[0m\u001b[33ms\u001b[0m\u001b[33ms\u001b[0m\u001b[33ms\u001b[0m\u001b[33ms\u001b[0m\u001b[33ms\u001b[0m\u001b[33ms\u001b[0m\u001b[33ms\u001b[0m\u001b[33ms\u001b[0m\u001b[33ms\u001b[0m\u001b[33ms\u001b[0m\u001b[33ms\u001b[0m\u001b[33ms\u001b[0m\u001b[33ms\u001b[0m\u001b[33ms\u001b[0m\u001b[33ms\u001b[0m\u001b[31mF\u001b[0m\u001b[31mF\u001b[0m\u001b[31mF\u001b[0m\u001b[31mF\u001b[0m\u001b[31mF\u001b[0m\u001b[31mF\u001b[0m\u001b[32m.\u001b[0m\u001b[31mF\u001b[0m\u001b[31mF\u001b[0m\u001b[31mF\u001b[0m\u001b[31m                                             [ 86%]\u001b[0m\n",
      "../../../usr/local/lib/python3.6/dist-packages/memote/suite/tests/test_essentiality.py \u001b[33ms\u001b[0m\u001b[31m [ 87%]\n",
      "\u001b[0m\u001b[31m                                                                         [ 87%]\u001b[0m\n",
      "../../../usr/local/lib/python3.6/dist-packages/memote/suite/tests/test_growth.py \u001b[33ms\u001b[0m\u001b[31m [ 88%]\n",
      "\u001b[0m\u001b[31m                                                                         [ 88%]\u001b[0m\n",
      "../../../usr/local/lib/python3.6/dist-packages/memote/suite/tests/test_matrix.py \u001b[32m.\u001b[0m\u001b[31m [ 89%]\n",
      "\u001b[0m\u001b[32m.\u001b[0m\u001b[32m.\u001b[0m\u001b[32m.\u001b[0m\u001b[31m                                                                      [ 91%]\u001b[0m\n",
      "../../../usr/local/lib/python3.6/dist-packages/memote/suite/tests/test_sbml.py \u001b[32m.\u001b[0m\u001b[31m [ 91%]\n",
      "\u001b[0m\u001b[32m.\u001b[0m\u001b[31m                                                                        [ 92%]\u001b[0m\n",
      "../../../usr/local/lib/python3.6/dist-packages/memote/suite/tests/test_sbo.py \u001b[31mF\u001b[0m\u001b[31m [ 93%]\n",
      "\u001b[0m\u001b[31mF\u001b[0m\u001b[31mF\u001b[0m\u001b[31mF\u001b[0m\u001b[31mF\u001b[0m\u001b[31mF\u001b[0m\u001b[31mF\u001b[0m\u001b[31mF\u001b[0m\u001b[33ms\u001b[0m\u001b[31mF\u001b[0m\u001b[32m.\u001b[0m\u001b[31m                                                               [100%]\u001b[0m\n",
      "\n",
      "\u001b[33m=============================== warnings summary ===============================\u001b[0m\n",
      "test_consistency.py::test_unconserved_metabolites\n",
      "  /usr/local/lib/python3.6/dist-packages/optlang/cplex_interface.py:461 \u001b[1;31mDeprecationWarning\u001b[0m: The 'warn' method is deprecated, use 'warning' instead\n",
      "\n",
      "../../../usr/local/lib/python3.6/dist-packages/_pytest/stepwise.py:122\n",
      "  /usr/local/lib/python3.6/dist-packages/_pytest/stepwise.py:122 \u001b[1;31mPytestCacheWarning\u001b[0m: could not create cache path /usr/local/lib/python3.6/dist-packages/memote/suite/tests/.pytest_cache/v/cache/stepwise\n",
      "\n",
      "../../../usr/local/lib/python3.6/dist-packages/_pytest/cacheprovider.py:403\n",
      "  /usr/local/lib/python3.6/dist-packages/_pytest/cacheprovider.py:403 \u001b[1;31mPytestCacheWarning\u001b[0m: could not create cache path /usr/local/lib/python3.6/dist-packages/memote/suite/tests/.pytest_cache/v/cache/nodeids\n",
      "\n",
      "../../../usr/local/lib/python3.6/dist-packages/_pytest/cacheprovider.py:357\n",
      "  /usr/local/lib/python3.6/dist-packages/_pytest/cacheprovider.py:357 \u001b[1;31mPytestCacheWarning\u001b[0m: could not create cache path /usr/local/lib/python3.6/dist-packages/memote/suite/tests/.pytest_cache/v/cache/lastfailed\n",
      "\n",
      "-- Docs: https://docs.pytest.org/en/stable/warnings.html\n",
      "=========================== short test summary info ============================\n",
      "FAILED ../../../usr/local/lib/python3.6/dist-packages/memote/suite/tests/test_annotation.py::test_metabolite_annotation_overview[pubchem.compound]\n",
      "FAILED ../../../usr/local/lib/python3.6/dist-packages/memote/suite/tests/test_annotation.py::test_metabolite_annotation_overview[kegg.compound]\n",
      "FAILED ../../../usr/local/lib/python3.6/dist-packages/memote/suite/tests/test_annotation.py::test_metabolite_annotation_overview[seed.compound]\n",
      "FAILED ../../../usr/local/lib/python3.6/dist-packages/memote/suite/tests/test_annotation.py::test_metabolite_annotation_overview[inchikey]\n",
      "FAILED ../../../usr/local/lib/python3.6/dist-packages/memote/suite/tests/test_annotation.py::test_metabolite_annotation_overview[inchi]\n",
      "FAILED ../../../usr/local/lib/python3.6/dist-packages/memote/suite/tests/test_annotation.py::test_metabolite_annotation_overview[chebi]\n",
      "FAILED ../../../usr/local/lib/python3.6/dist-packages/memote/suite/tests/test_annotation.py::test_metabolite_annotation_overview[hmdb]\n",
      "FAILED ../../../usr/local/lib/python3.6/dist-packages/memote/suite/tests/test_annotation.py::test_metabolite_annotation_overview[reactome]\n",
      "FAILED ../../../usr/local/lib/python3.6/dist-packages/memote/suite/tests/test_annotation.py::test_metabolite_annotation_overview[metanetx.chemical]\n",
      "FAILED ../../../usr/local/lib/python3.6/dist-packages/memote/suite/tests/test_annotation.py::test_metabolite_annotation_overview[bigg.metabolite]\n",
      "FAILED ../../../usr/local/lib/python3.6/dist-packages/memote/suite/tests/test_annotation.py::test_metabolite_annotation_overview[biocyc]\n",
      "FAILED ../../../usr/local/lib/python3.6/dist-packages/memote/suite/tests/test_annotation.py::test_reaction_annotation_overview[rhea]\n",
      "FAILED ../../../usr/local/lib/python3.6/dist-packages/memote/suite/tests/test_annotation.py::test_reaction_annotation_overview[kegg.reaction]\n",
      "FAILED ../../../usr/local/lib/python3.6/dist-packages/memote/suite/tests/test_annotation.py::test_reaction_annotation_overview[seed.reaction]\n",
      "FAILED ../../../usr/local/lib/python3.6/dist-packages/memote/suite/tests/test_annotation.py::test_reaction_annotation_overview[metanetx.reaction]\n",
      "FAILED ../../../usr/local/lib/python3.6/dist-packages/memote/suite/tests/test_annotation.py::test_reaction_annotation_overview[bigg.reaction]\n",
      "FAILED ../../../usr/local/lib/python3.6/dist-packages/memote/suite/tests/test_annotation.py::test_reaction_annotation_overview[reactome]\n",
      "FAILED ../../../usr/local/lib/python3.6/dist-packages/memote/suite/tests/test_annotation.py::test_reaction_annotation_overview[ec-code]\n",
      "FAILED ../../../usr/local/lib/python3.6/dist-packages/memote/suite/tests/test_annotation.py::test_reaction_annotation_overview[brenda]\n",
      "FAILED ../../../usr/local/lib/python3.6/dist-packages/memote/suite/tests/test_annotation.py::test_reaction_annotation_overview[biocyc]\n",
      "FAILED ../../../usr/local/lib/python3.6/dist-packages/memote/suite/tests/test_annotation.py::test_gene_product_annotation_overview[refseq]\n",
      "FAILED ../../../usr/local/lib/python3.6/dist-packages/memote/suite/tests/test_annotation.py::test_gene_product_annotation_overview[uniprot]\n",
      "FAILED ../../../usr/local/lib/python3.6/dist-packages/memote/suite/tests/test_annotation.py::test_gene_product_annotation_overview[ecogene]\n",
      "FAILED ../../../usr/local/lib/python3.6/dist-packages/memote/suite/tests/test_annotation.py::test_gene_product_annotation_overview[kegg.genes]\n",
      "FAILED ../../../usr/local/lib/python3.6/dist-packages/memote/suite/tests/test_annotation.py::test_gene_product_annotation_overview[ncbigi]\n",
      "FAILED ../../../usr/local/lib/python3.6/dist-packages/memote/suite/tests/test_annotation.py::test_gene_product_annotation_overview[ncbigene]\n",
      "FAILED ../../../usr/local/lib/python3.6/dist-packages/memote/suite/tests/test_annotation.py::test_gene_product_annotation_overview[ncbiprotein]\n",
      "FAILED ../../../usr/local/lib/python3.6/dist-packages/memote/suite/tests/test_annotation.py::test_gene_product_annotation_overview[ccds]\n",
      "FAILED ../../../usr/local/lib/python3.6/dist-packages/memote/suite/tests/test_annotation.py::test_gene_product_annotation_overview[hprd]\n",
      "FAILED ../../../usr/local/lib/python3.6/dist-packages/memote/suite/tests/test_annotation.py::test_gene_product_annotation_overview[asap]\n",
      "FAILED ../../../usr/local/lib/python3.6/dist-packages/memote/suite/tests/test_annotation.py::test_metabolite_annotation_wrong_ids[pubchem.compound]\n",
      "FAILED ../../../usr/local/lib/python3.6/dist-packages/memote/suite/tests/test_annotation.py::test_metabolite_annotation_wrong_ids[seed.compound]\n",
      "FAILED ../../../usr/local/lib/python3.6/dist-packages/memote/suite/tests/test_annotation.py::test_metabolite_annotation_wrong_ids[inchikey]\n",
      "FAILED ../../../usr/local/lib/python3.6/dist-packages/memote/suite/tests/test_annotation.py::test_metabolite_annotation_wrong_ids[inchi]\n",
      "FAILED ../../../usr/local/lib/python3.6/dist-packages/memote/suite/tests/test_annotation.py::test_metabolite_annotation_wrong_ids[hmdb]\n",
      "FAILED ../../../usr/local/lib/python3.6/dist-packages/memote/suite/tests/test_annotation.py::test_metabolite_annotation_wrong_ids[reactome]\n",
      "FAILED ../../../usr/local/lib/python3.6/dist-packages/memote/suite/tests/test_annotation.py::test_metabolite_annotation_wrong_ids[biocyc]\n",
      "FAILED ../../../usr/local/lib/python3.6/dist-packages/memote/suite/tests/test_annotation.py::test_reaction_annotation_wrong_ids[rhea]\n",
      "FAILED ../../../usr/local/lib/python3.6/dist-packages/memote/suite/tests/test_annotation.py::test_reaction_annotation_wrong_ids[seed.reaction]\n",
      "FAILED ../../../usr/local/lib/python3.6/dist-packages/memote/suite/tests/test_annotation.py::test_reaction_annotation_wrong_ids[reactome]\n",
      "FAILED ../../../usr/local/lib/python3.6/dist-packages/memote/suite/tests/test_annotation.py::test_reaction_annotation_wrong_ids[brenda]\n",
      "FAILED ../../../usr/local/lib/python3.6/dist-packages/memote/suite/tests/test_annotation.py::test_reaction_annotation_wrong_ids[biocyc]\n",
      "FAILED ../../../usr/local/lib/python3.6/dist-packages/memote/suite/tests/test_annotation.py::test_gene_product_annotation_wrong_ids[refseq]\n",
      "FAILED ../../../usr/local/lib/python3.6/dist-packages/memote/suite/tests/test_annotation.py::test_gene_product_annotation_wrong_ids[uniprot]\n",
      "FAILED ../../../usr/local/lib/python3.6/dist-packages/memote/suite/tests/test_annotation.py::test_gene_product_annotation_wrong_ids[ecogene]\n",
      "FAILED ../../../usr/local/lib/python3.6/dist-packages/memote/suite/tests/test_annotation.py::test_gene_product_annotation_wrong_ids[kegg.genes]\n",
      "FAILED ../../../usr/local/lib/python3.6/dist-packages/memote/suite/tests/test_annotation.py::test_gene_product_annotation_wrong_ids[ncbigi]\n",
      "FAILED ../../../usr/local/lib/python3.6/dist-packages/memote/suite/tests/test_annotation.py::test_gene_product_annotation_wrong_ids[ncbigene]\n",
      "FAILED ../../../usr/local/lib/python3.6/dist-packages/memote/suite/tests/test_annotation.py::test_gene_product_annotation_wrong_ids[ncbiprotein]\n",
      "FAILED ../../../usr/local/lib/python3.6/dist-packages/memote/suite/tests/test_annotation.py::test_gene_product_annotation_wrong_ids[ccds]\n",
      "FAILED ../../../usr/local/lib/python3.6/dist-packages/memote/suite/tests/test_annotation.py::test_gene_product_annotation_wrong_ids[hprd]\n",
      "FAILED ../../../usr/local/lib/python3.6/dist-packages/memote/suite/tests/test_annotation.py::test_gene_product_annotation_wrong_ids[asap]\n",
      "FAILED ../../../usr/local/lib/python3.6/dist-packages/memote/suite/tests/test_annotation.py::test_metabolite_id_namespace_consistency\n",
      "FAILED ../../../usr/local/lib/python3.6/dist-packages/memote/suite/tests/test_basic.py::test_gene_protein_reaction_rule_presence\n",
      "FAILED ../../../usr/local/lib/python3.6/dist-packages/memote/suite/tests/test_basic.py::test_transport_reaction_gpr_presence\n",
      "FAILED ../../../usr/local/lib/python3.6/dist-packages/memote/suite/tests/test_basic.py::test_find_unique_metabolites\n",
      "FAILED ../../../usr/local/lib/python3.6/dist-packages/memote/suite/tests/test_basic.py::test_find_reactions_with_partially_identical_annotations\n",
      "FAILED ../../../usr/local/lib/python3.6/dist-packages/memote/suite/tests/test_basic.py::test_find_reactions_with_identical_genes\n",
      "FAILED ../../../usr/local/lib/python3.6/dist-packages/memote/suite/tests/test_basic.py::test_find_medium_metabolites\n",
      "FAILED ../../../usr/local/lib/python3.6/dist-packages/memote/suite/tests/test_biomass.py::test_biomass_consistency[r_4041]\n",
      "FAILED ../../../usr/local/lib/python3.6/dist-packages/memote/suite/tests/test_biomass.py::test_fast_growth_default[r_4041]\n",
      "FAILED ../../../usr/local/lib/python3.6/dist-packages/memote/suite/tests/test_biomass.py::test_essential_precursors_not_in_biomass[r_4041]\n",
      "FAILED ../../../usr/local/lib/python3.6/dist-packages/memote/suite/tests/test_consistency.py::test_stoichiometric_consistency\n",
      "FAILED ../../../usr/local/lib/python3.6/dist-packages/memote/suite/tests/test_consistency.py::test_unconserved_metabolites\n",
      "FAILED ../../../usr/local/lib/python3.6/dist-packages/memote/suite/tests/test_consistency.py::test_inconsistent_min_stoichiometry\n",
      "FAILED ../../../usr/local/lib/python3.6/dist-packages/memote/suite/tests/test_consistency.py::test_reaction_charge_balance\n",
      "FAILED ../../../usr/local/lib/python3.6/dist-packages/memote/suite/tests/test_consistency.py::test_reaction_mass_balance\n",
      "FAILED ../../../usr/local/lib/python3.6/dist-packages/memote/suite/tests/test_consistency.py::test_blocked_reactions\n",
      "FAILED ../../../usr/local/lib/python3.6/dist-packages/memote/suite/tests/test_consistency.py::test_find_stoichiometrically_balanced_cycles\n",
      "FAILED ../../../usr/local/lib/python3.6/dist-packages/memote/suite/tests/test_consistency.py::test_find_orphans\n",
      "FAILED ../../../usr/local/lib/python3.6/dist-packages/memote/suite/tests/test_consistency.py::test_find_deadends\n",
      "FAILED ../../../usr/local/lib/python3.6/dist-packages/memote/suite/tests/test_consistency.py::test_find_metabolites_not_produced_with_open_bounds\n",
      "FAILED ../../../usr/local/lib/python3.6/dist-packages/memote/suite/tests/test_consistency.py::test_find_metabolites_not_consumed_with_open_bounds\n",
      "FAILED ../../../usr/local/lib/python3.6/dist-packages/memote/suite/tests/test_consistency.py::test_find_reactions_unbounded_flux_default_condition\n",
      "FAILED ../../../usr/local/lib/python3.6/dist-packages/memote/suite/tests/test_sbo.py::test_metabolite_sbo_presence\n",
      "FAILED ../../../usr/local/lib/python3.6/dist-packages/memote/suite/tests/test_sbo.py::test_reaction_sbo_presence\n",
      "FAILED ../../../usr/local/lib/python3.6/dist-packages/memote/suite/tests/test_sbo.py::test_gene_sbo_presence\n",
      "FAILED ../../../usr/local/lib/python3.6/dist-packages/memote/suite/tests/test_sbo.py::test_metabolic_reaction_specific_sbo_presence\n",
      "FAILED ../../../usr/local/lib/python3.6/dist-packages/memote/suite/tests/test_sbo.py::test_transport_reaction_specific_sbo_presence\n",
      "FAILED ../../../usr/local/lib/python3.6/dist-packages/memote/suite/tests/test_sbo.py::test_metabolite_specific_sbo_presence\n",
      "FAILED ../../../usr/local/lib/python3.6/dist-packages/memote/suite/tests/test_sbo.py::test_gene_specific_sbo_presence\n",
      "FAILED ../../../usr/local/lib/python3.6/dist-packages/memote/suite/tests/test_sbo.py::test_exchange_specific_sbo_presence\n",
      "FAILED ../../../usr/local/lib/python3.6/dist-packages/memote/suite/tests/test_sbo.py::test_sink_specific_sbo_presence\n",
      "\u001b[31m====== \u001b[31m\u001b[1m83 failed\u001b[0m, \u001b[32m44 passed\u001b[0m, \u001b[33m20 skipped\u001b[0m, \u001b[33m4 warnings\u001b[0m\u001b[31m in 1211.50s (0:20:11)\u001b[0m\u001b[31m ======\u001b[0m\n"
     ]
    }
   ],
   "source": [
    "!memote report snapshot yeastGEM.xml --filename yeastGEM.html"
   ]
  },
  {
   "cell_type": "code",
   "execution_count": null,
   "metadata": {},
   "outputs": [],
   "source": []
  }
 ],
 "metadata": {
  "kernelspec": {
   "display_name": "Python 3",
   "language": "python",
   "name": "python3"
  },
  "language_info": {
   "codemirror_mode": {
    "name": "ipython",
    "version": 3
   },
   "file_extension": ".py",
   "mimetype": "text/x-python",
   "name": "python",
   "nbconvert_exporter": "python",
   "pygments_lexer": "ipython3",
   "version": "3.8.3"
  }
 },
 "nbformat": 4,
 "nbformat_minor": 4
}
