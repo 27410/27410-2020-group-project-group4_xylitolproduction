{
 "cells": [
  {
   "cell_type": "code",
   "execution_count": 1,
   "metadata": {},
   "outputs": [],
   "source": [
    "from cobra.io import read_sbml_model\n",
    "from cobra import Reaction, Metabolite\n",
    "import numpy as np\n",
    "import matplotlib.pyplot as plt\n",
    "\n",
    "model = read_sbml_model('yeastGEM.xml')"
   ]
  },
  {
   "cell_type": "code",
   "execution_count": 36,
   "metadata": {},
   "outputs": [],
   "source": [
    "xyodict = {1: \"r_2104\", # xylitol transport\n",
    "           2: \"r_1719\", # D-xylose transport\n",
    "           3: \"r_1093\", # xylose reductase\n",
    "           4: \"r_1092\"  # xylitol dehydrogenase\n",
    "          }"
   ]
  },
  {
   "cell_type": "code",
   "execution_count": 51,
   "metadata": {},
   "outputs": [
    {
     "name": "stdout",
     "output_type": "stream",
     "text": [
      "ammonium exchange r_1654: s_0420[e] <=>  1000.0\n",
      "D-glucose exchange r_1714: s_0565[e] <=>  1.0\n",
      "H+ exchange r_1832: s_0796[e] <=>  1000.0\n",
      "iron(2+) exchange r_1861: s_0925[e] <=>  1000.0\n",
      "oxygen exchange r_1992: s_1277[e] <=>  1000.0\n",
      "phosphate exchange r_2005: s_1324[e] <=>  1000.0\n",
      "potassium exchange r_2020: s_1374[e] <=>  1000.0\n",
      "sodium exchange r_2049: s_1438[e] <=>  1000.0\n",
      "sulphate exchange r_2060: s_1468[e] <=>  1000.0\n",
      "water exchange r_2100: s_0805[e] <=>  1000.0\n",
      "chloride exchange r_4593: s_4200[e] <=>  1000.0\n",
      "Cu2(+) exchange r_4594: s_4201[e] <=>  1000.0\n",
      "Mn(2+) exchange r_4595: s_4202[e] <=>  1000.0\n",
      "Zn(2+) exchange r_4596: s_4203[e] <=>  1000.0\n",
      "Mg(2+) exchange r_4597: s_4204[e] <=>  1000.0\n",
      "Ca(2+) exchange r_4600: s_4199[e] <=>  1000.0\n"
     ]
    }
   ],
   "source": [
    "medium_glu = model.medium  # 100% glucose as carbon source in the medium\n",
    "\n",
    "medium_glu0 = model.medium  # 100% xylose as carbon source in the medium\n",
    "with model: \n",
    "    medium_glu0['r_1714'] = 0.0\n",
    "    medium_glu0['r_1718'] = 1.0\n",
    "\n",
    "medium_glu50 = model.medium # 50% glucose and 50% xylose as carbon sources in the medium\n",
    "with model: \n",
    "    medium_glu50['r_1714'] = 0.5\n",
    "    medium_glu50['r_1718'] = 0.5\n",
    "    \n",
    "medium_glu75 = model.medium # 75% glucose and 25% xylose as carbon sources in the medium\n",
    "with model: \n",
    "    medium_glu75['r_1714'] = 0.75\n",
    "    medium_glu75['r_1718'] = 0.25\n",
    "    \n",
    "medium_glu25 = model.medium # 25% glucose and 75% xylose as carbon sources in the medium\n",
    "with model: \n",
    "    medium_glu25['r_1714'] = 0.25\n",
    "    medium_glu25['r_1718'] = 0.75\n",
    "    \n",
    "medium_glu60 = model.medium # 60% glucose and 40% xylose as carbon sources in the medium\n",
    "with model: \n",
    "    medium_glu60['r_1714'] = 0.60\n",
    "    medium_glu60['r_1718'] = 0.40\n",
    "\n",
    "medium_glu40 = model.medium # 40% glucose and 60% xylose as carbon sources in the medium\n",
    "with model: \n",
    "    medium_glu40['r_1714'] = 0.40\n",
    "    medium_glu40['r_1718'] = 0.60\n",
    "\n",
    "for element in medium_glu.keys():\n",
    "    print(model.reactions.get_by_id(element).name, model.reactions.get_by_id(element), medium_glu[element])"
   ]
  },
  {
   "cell_type": "code",
   "execution_count": 97,
   "metadata": {},
   "outputs": [
    {
     "name": "stdout",
     "output_type": "stream",
     "text": [
      "Objective\n",
      "=========\n",
      "1.0 r_2111 = 0.04691493348189254\n",
      "\n",
      "Uptake\n",
      "------\n",
      "Metabolite Reaction      Flux  C-Number  C-Flux\n",
      " s_0420[e]   r_1654    0.3354         0   0.00%\n",
      " s_0565[e]   r_1714       0.6         6  70.59%\n",
      " s_0579[e]   r_1718       0.3         5  29.41%\n",
      " s_0796[e]   r_1832   0.02373         0   0.00%\n",
      " s_0925[e]   r_1861 1.426E-06         0   0.00%\n",
      " s_1277[e]   r_1992     1.349         0   0.00%\n",
      " s_1324[e]   r_2005    0.3053         0   0.00%\n",
      " s_1374[e]   r_2020 0.0001703         0   0.00%\n",
      " s_1438[e]   r_2049 0.0001863         0   0.00%\n",
      " s_1468[e]   r_2060  0.004035         0   0.00%\n",
      " s_4200[e]   r_4593 6.052E-05         0   0.00%\n",
      " s_4201[e]   r_4594 3.092E-05         0   0.00%\n",
      " s_4202[e]   r_4595 0.0001281         0   0.00%\n",
      " s_4203[e]   r_4596 3.509E-05         0   0.00%\n",
      " s_4204[e]   r_4597 5.829E-05         0   0.00%\n",
      " s_4199[e]   r_4600 1.018E-05         0   0.00%\n",
      "\n",
      "Secretion\n",
      "---------\n",
      "Metabolite Reaction       Flux  C-Number  C-Flux\n",
      " s_0458[e]   r_1672     -1.578         1  51.26%\n",
      " s_0776[e]   r_1814 -3.031E-06         2   0.00%\n",
      " s_0805[e]   r_2100     -2.349         0   0.00%\n",
      " s_1567[e]   r_2104       -0.3         5  48.74%\n",
      " s_0450[c]   r_2111   -0.04691         0   0.00%\n",
      " s_4157[e]   r_4527    -0.1409         0   0.00%\n",
      "\n",
      "xylitol exchange 0.30000000000000004\n",
      "D-xylose transport 0.30000000000000004\n",
      "xylose reductase 0.30000000000000004\n",
      "xylitol dehydrogenase (D-xyulose-forming) 0.0\n",
      "growth 0.04691493348189254\n",
      "D-glucose exchange -0.6\n",
      "glucose transport 0.6\n"
     ]
    }
   ],
   "source": [
    "with mutant_model:\n",
    "    # model.medium = medium_glu  # 100% glucose as carbon source in the medium\n",
    "    # model.medium = medium_glu0 # 100% xylose as carbon source in the medium\n",
    "    # model.medium = medium_glu75 # 75% glucose and 25% xylose as carbon sources in the medium\n",
    "    # model.medium = medium_glu50 # 50% glucose and 50% xylose as carbon sources in the medium\n",
    "    # model.medium = medium_glu25 # 25% glucose and 75% xylose as carbon sources in the medium\n",
    "    # model.medium = medium_glu40 # 60% glucose and 40% xylose as carbon sources in the medium\n",
    "    model.medium = medium_glu60 # 40% glucose and 60% xylose as carbon sources in the medium\n",
    "## Regulations\n",
    "    model.reactions.r_1719.bounds = (0,1) # regulation for xylose transporter\n",
    "    model.reactions.r_1093.bounds = (0,1) # regulation for xylose reductase\n",
    "    model.genes.YLR070C.knock_out() # knockout for xylitol dehydrogenase\n",
    "    model.reactions.r_2104.bounds = (0.75* medium_glu60['r_1718'],0.40) # regulation for xylitol transporter\n",
    "    model.reactions.r_0889.bounds = (0,1) # 6-phosphogluconate dehydrogenase\n",
    "    model.reactions.r_0466.bounds = (0,1) # Glucose-6-phosphate dehydrogenase\n",
    "    \n",
    "    ## solve model\n",
    "    # model.objective = model.reactions.r_2104 # objective is maximum xylitol production\n",
    "    solution3 = model.optimize()\n",
    "    print(model.summary())\n",
    "    for key in xyodict.keys():\n",
    "        print(model.reactions.get_by_id(xyodict[key]).name, model.reactions.get_by_id(xyodict[key]).flux)\n",
    "    print(model.reactions.r_2111.name, model.reactions.r_2111.flux)\n",
    "    print(model.reactions.r_1714.name, model.reactions.r_1714.flux)\n",
    "    print(model.reactions.r_1166.name, model.reactions.r_1166.flux)"
   ]
  },
  {
   "cell_type": "code",
   "execution_count": 22,
   "metadata": {},
   "outputs": [
    {
     "data": {
      "image/png": "[encoded data removed]",
      "text/plain": [
       "<Figure size 432x288 with 2 Axes>"
      ]
     },
     "metadata": {
      "needs_background": "light"
     },
     "output_type": "display_data"
    }
   ],
   "source": [
    "# Create data\n",
    "gluc_cont = [0, 25, 40, 50, 60, 75, 100]\n",
    "growth = [0, 0.016, 0.029, 0.0386, 0.0476, 0.0611, 0.083]\n",
    "Cyield = [1, 1, 1, 1, 1, 1, 1]\n",
    "\n",
    "fig = plt.figure()\n",
    "ax = fig.add_subplot(111)\n",
    "ax2 = ax.twinx()  #instantiate a second axes that shares the same x-axis\n",
    "lns1 = ax.plot(gluc_cont, growth, '-b', label = 'Growth')\n",
    "lns2 = ax2.plot(gluc_cont, Cyield, '-r', label = 'Yield')\n",
    "\n",
    "lns = lns1 + lns2\n",
    "labs = [l.get_label() for l in lns]\n",
    "ax.legend(lns, labs, loc=0)\n",
    "\n",
    "ax.set_xlabel('Glucose % in Medium')\n",
    "ax.set_ylabel('Growth')\n",
    "ax2.set_ylabel('Yield')\n",
    "plt.show()\n",
    "\n"
   ]
  }
 ],
 "metadata": {
  "kernelspec": {
   "display_name": "Python 3",
   "language": "python",
   "name": "python3"
  },
  "language_info": {
   "codemirror_mode": {
    "name": "ipython",
    "version": 3
   },
   "file_extension": ".py",
   "mimetype": "text/x-python",
   "name": "python",
   "nbconvert_exporter": "python",
   "pygments_lexer": "ipython3",
   "version": "3.8.3"
  }
 },
 "nbformat": 4,
 "nbformat_minor": 4
}
