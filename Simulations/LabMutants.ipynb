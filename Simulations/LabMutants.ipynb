{
 "cells": [
  {
   "cell_type": "markdown",
   "metadata": {},
   "source": [
    "1. Load the model Yeast8"
   ]
  },
  {
   "cell_type": "code",
   "execution_count": 2,
   "metadata": {},
   "outputs": [],
   "source": [
    "from cobra.io import read_sbml_model\n",
    "from cobra import Reaction, Metabolite\n",
    "\n",
    "model = read_sbml_model('yeastGEM.xml')"
   ]
  },
  {
   "cell_type": "markdown",
   "metadata": {},
   "source": [
    "2. Running model with Standard Medium"
   ]
  },
  {
   "cell_type": "code",
   "execution_count": 3,
   "metadata": {},
   "outputs": [],
   "source": [
    "#Create reaction dictionary"
   ]
  },
  {
   "cell_type": "code",
   "execution_count": 4,
   "metadata": {},
   "outputs": [],
   "source": [
    "xyodict = {1: \"r_2104\", # xylitol transport\n",
    "           2: \"r_1719\", # D-xylose transport\n",
    "           3: \"r_1093\", # xylose reductase\n",
    "           4: \"r_1092\", # xylitol dehydrogenase\n",
    "           5: \"r_0889\", # 6-phosphogluconate dehydrogenase\n",
    "           6: \"r_0466\", # Glucose-6-phosphate dehydrogenase\n",
    "          }"
   ]
  },
  {
   "cell_type": "code",
   "execution_count": 5,
   "metadata": {},
   "outputs": [],
   "source": [
    "#Setting different medium conditions. The elements in the different mediums can be displayed replacing the pertinent number in the bottom code"
   ]
  },
  {
   "cell_type": "code",
   "execution_count": 6,
   "metadata": {},
   "outputs": [
    {
     "name": "stdout",
     "output_type": "stream",
     "text": [
      "ammonium exchange r_1654: s_0420[e] <=>  1000.0\n",
      "D-glucose exchange r_1714: s_0565[e] <=>  1.0\n",
      "H+ exchange r_1832: s_0796[e] <=>  1000.0\n",
      "iron(2+) exchange r_1861: s_0925[e] <=>  1000.0\n",
      "oxygen exchange r_1992: s_1277[e] <=>  1000.0\n",
      "phosphate exchange r_2005: s_1324[e] <=>  1000.0\n",
      "potassium exchange r_2020: s_1374[e] <=>  1000.0\n",
      "sodium exchange r_2049: s_1438[e] <=>  1000.0\n",
      "sulphate exchange r_2060: s_1468[e] <=>  1000.0\n",
      "water exchange r_2100: s_0805[e] <=>  1000.0\n",
      "chloride exchange r_4593: s_4200[e] <=>  1000.0\n",
      "Cu2(+) exchange r_4594: s_4201[e] <=>  1000.0\n",
      "Mn(2+) exchange r_4595: s_4202[e] <=>  1000.0\n",
      "Zn(2+) exchange r_4596: s_4203[e] <=>  1000.0\n",
      "Mg(2+) exchange r_4597: s_4204[e] <=>  1000.0\n",
      "Ca(2+) exchange r_4600: s_4199[e] <=>  1000.0\n"
     ]
    }
   ],
   "source": [
    "medium_glu = model.medium  # 100% glucose as carbon source in the medium\n",
    "\n",
    "medium_glu50 = model.medium # 50% glucose and 50% xylose as carbon sources in the medium\n",
    "with model: \n",
    "    medium_glu50['r_1714'] = 0.5\n",
    "    medium_glu50['r_1718'] = 0.5\n",
    "\n",
    "for element in medium_glu.keys():\n",
    "    print(model.reactions.get_by_id(element).name, model.reactions.get_by_id(element), medium_glu[element])"
   ]
  },
  {
   "cell_type": "markdown",
   "metadata": {},
   "source": [
    "3. Run the model with the selected medium. In this model there are already included a combination of the different mutations that have been proven to work individually with promise to improve xylitol production. This include upregulation of a xylose transporter form the medium to inside of the cell, an upregulation of the xylose reductase, for a higher xylitol conversion, a knock out of the gene XDH in the PPP pathway to prevent xylitol to keep going down the pathway, and an upregulation of the xylitol transporter. In the code below, we can combine these modifications with mediums with different composition, using alternative proportions of the two selected carbon sources: glucose and xylose. The idea behind this experiment is to determine the best conditions for xylitol production while still having cell growth."
   ]
  },
  {
   "cell_type": "code",
   "execution_count": 9,
   "metadata": {},
   "outputs": [
    {
     "name": "stdout",
     "output_type": "stream",
     "text": [
      "Objective\n",
      "=========\n",
      "1.0 r_2111 = 0.037706719837873166\n",
      "\n",
      "Uptake\n",
      "------\n",
      "Metabolite Reaction      Flux  C-Number  C-Flux\n",
      " s_0420[e]   r_1654    0.2696         0   0.00%\n",
      " s_0565[e]   r_1714       0.5         6  61.54%\n",
      " s_0579[e]   r_1718     0.375         5  38.46%\n",
      " s_0796[e]   r_1832   0.01907         0   0.00%\n",
      " s_0925[e]   r_1861 1.146E-06         0   0.00%\n",
      " s_1277[e]   r_1992     1.124         0   0.00%\n",
      " s_1324[e]   r_2005    0.2454         0   0.00%\n",
      " s_1374[e]   r_2020 0.0001369         0   0.00%\n",
      " s_1438[e]   r_2049 0.0001497         0   0.00%\n",
      " s_1468[e]   r_2060  0.003243         0   0.00%\n",
      " s_4200[e]   r_4593 4.864E-05         0   0.00%\n",
      " s_4201[e]   r_4594 2.485E-05         0   0.00%\n",
      " s_4202[e]   r_4595 0.0001029         0   0.00%\n",
      " s_4203[e]   r_4596  2.82E-05         0   0.00%\n",
      " s_4204[e]   r_4597 4.685E-05         0   0.00%\n",
      " s_4199[e]   r_4600 8.182E-06         0   0.00%\n",
      "\n",
      "Secretion\n",
      "---------\n",
      "Metabolite Reaction       Flux  C-Number  C-Flux\n",
      " s_0458[e]   r_1672     -1.375         1  42.30%\n",
      " s_0776[e]   r_1814 -2.436E-06         2   0.00%\n",
      " s_0805[e]   r_2100      -1.86         0   0.00%\n",
      " s_1567[e]   r_2104     -0.375         5  57.70%\n",
      " s_0450[c]   r_2111   -0.03771         0   0.00%\n",
      " s_4157[e]   r_4527    -0.1132         0   0.00%\n",
      "\n",
      "xylitol exchange 0.375\n",
      "D-xylose transport 0.375\n",
      "xylose reductase 0.375\n",
      "xylitol dehydrogenase (D-xyulose-forming) 0.0\n",
      "phosphogluconate dehydrogenase 0.1925627612717365\n",
      "glucose 6-phosphate dehydrogenase 0.1925627612717365\n",
      "growth 0.037706719837873166\n",
      "D-glucose exchange -0.5\n",
      "glucose transport 0.5\n"
     ]
    }
   ],
   "source": [
    "with model:\n",
    "    \n",
    "    #MODEL MEDIUM\n",
    "    model.medium = medium_glu50 # 60% glucose and 40% xylose as carbon sources in the medium\n",
    "\n",
    "    #BUILD THE MUTANTS\n",
    "    model.reactions.r_1719.bounds = (0,10) # regulation for xylose transporter\n",
    "    model.reactions.r_1093.bounds = (0,10) # regulation for xylose reductase\n",
    "    model.genes.YLR070C.knock_out() # knockout for xylitol dehydrogenase\n",
    "    model.reactions.r_2104.bounds = (0.75*medium_glu50['r_1718'],1) # regulation for xylitol transporter\n",
    "    model.reactions.r_0889.bounds = (0,10) # 6-phosphogluconate dehydrogenase\n",
    "    model.reactions.r_0466.bounds = (0,10) # Glucose-6-phosphate dehydrogenase\n",
    "\n",
    "    \n",
    "    ## solve model\n",
    "    # model.objective = model.reactions.r_2104 # objective is maximum xylitol production\n",
    "    solution3 = model.optimize()\n",
    "    print(model.summary())\n",
    "    for key in xyodict.keys():\n",
    "        print(model.reactions.get_by_id(xyodict[key]).name, model.reactions.get_by_id(xyodict[key]).flux)\n",
    "    print(model.reactions.r_2111.name, model.reactions.r_2111.flux)\n",
    "    print(model.reactions.r_1714.name, model.reactions.r_1714.flux)\n",
    "    print(model.reactions.r_1166.name, model.reactions.r_1166.flux)"
   ]
  },
  {
   "cell_type": "code",
   "execution_count": null,
   "metadata": {},
   "outputs": [],
   "source": []
  }
 ],
 "metadata": {
  "kernelspec": {
   "display_name": "Python 3",
   "language": "python",
   "name": "python3"
  },
  "language_info": {
   "codemirror_mode": {
    "name": "ipython",
    "version": 3
   },
   "file_extension": ".py",
   "mimetype": "text/x-python",
   "name": "python",
   "nbconvert_exporter": "python",
   "pygments_lexer": "ipython3",
   "version": "3.8.3"
  }
 },
 "nbformat": 4,
 "nbformat_minor": 4
}
