{
 "cells": [
  {
   "cell_type": "code",
   "execution_count": null,
   "metadata": {},
   "outputs": [],
   "source": [
    "from cobra.io import read_sbml_model\n",
    "from cobra import Reaction, Metabolite\n",
    "from dfba import DfbaModel, ExchangeFlux, KineticVariable\n",
    "\n",
    "model = read_sbml_model('ecYeastGEM.xml')\n",
    "model.solver = 'glpk'\n",
    "model.optimize()                               # optimize for biomass growth with standard medium\n",
    "print(model.objective.value)"
   ]
  },
  {
   "cell_type": "markdown",
   "metadata": {},
   "source": [
    "1. Make DFBA model"
   ]
  },
  {
   "cell_type": "code",
   "execution_count": null,
   "metadata": {},
   "outputs": [],
   "source": [
    "dfba_model = DfbaModel(model)"
   ]
  },
  {
   "cell_type": "markdown",
   "metadata": {},
   "source": [
    "2. Add kinetic variables for components"
   ]
  },
  {
   "cell_type": "code",
   "execution_count": null,
   "metadata": {},
   "outputs": [],
   "source": [
    "X = KineticVariable(\"Biomass\")\n",
    "Glu = KineticVariable(\"Glucose\")\n",
    "Xyl = KineticVariable(\"Xylose\")\n",
    "Xyo = KineticVariable(\"Xylitol\")\n",
    "\n",
    "dfba_model.add_kinetic_variables([X, Glu, Xyl, Xyo])"
   ]
  },
  {
   "cell_type": "markdown",
   "metadata": {},
   "source": [
    "3. Add exchange rates"
   ]
  },
  {
   "cell_type": "code",
   "execution_count": null,
   "metadata": {},
   "outputs": [],
   "source": [
    "mu = ExchangeFlux(\"r_2111\")\n",
    "v_G = ExchangeFlux(\"r_1714\")\n",
    "v_S = ExchangeFlux(\"r_1718\")\n",
    "v_P = ExchangeFlux(\"r_2104\")\n",
    "\n",
    "\n",
    "dfba_model.add_exchange_fluxes([mu, v_G, v_S, v_P])"
   ]
  },
  {
   "cell_type": "markdown",
   "metadata": {},
   "source": [
    "4. Mass balances for batch"
   ]
  },
  {
   "cell_type": "code",
   "execution_count": null,
   "metadata": {},
   "outputs": [],
   "source": [
    "dfba_model.add_rhs_expression(\"Biomass\", mu * X)\n",
    "dfba_model.add_rhs_expression(\"Glucose\", v_G * 180.1559/1000 * X) # v_G [mmol gDW^-1 h^-1] * 0.18 g/mmol * gDW/L\n",
    "dfba_model.add_rhs_expression(\"Xylose\", v_S * 150.13/1000 * X)\n",
    "dfba_model.add_rhs_expression(\"Xylitol\", v_P * 152.15/1000 *X) "
   ]
  },
  {
   "cell_type": "markdown",
   "metadata": {},
   "source": [
    "5. Expression bounds"
   ]
  },
  {
   "cell_type": "markdown",
   "metadata": {},
   "source": [
    "https://link.springer.com/article/10.1007/s00449-007-0169-1\n",
    "Xylose and Glucose for Hxt1, Xylitol = Xylose due to similar chemical structure (no better values found)"
   ]
  },
  {
   "cell_type": "code",
   "execution_count": null,
   "metadata": {},
   "outputs": [],
   "source": [
    "vmax_glu = 7.45 * (1000/180.1559) # [mmol gDW^-1 h^-1]\n",
    "vmax_xyl = 2.34 * (1000/150.13) # [mmol gDW^-1 h^-1]\n",
    "vmax_xyo = 2.34 * (1000/152.15) # [mmol gDW^-1 h^-1]\n",
    "\n",
    "K_glu = 19.8 # g/L Glucose Michaelis-Mentent constant\n",
    "K_xyl = 132 # g/L Glucose Michaelis-Mentent constant\n",
    "K_xyo = 132 # g/L Glucose Michaelis-Mentent constant\n",
    "\n",
    "# lower bound glucose\n",
    "dfba_model.add_exchange_flux_lb(\n",
    "    \"r_1714\",\n",
    "    vmax_glu * (Glu / (K_glu * (1 + Xyl/K_xyl) + Glu)),\n",
    "    Glu\n",
    ")\n",
    "\n",
    "# lower bound xylose\n",
    "dfba_model.add_exchange_flux_lb( # glu\n",
    "    \"r_1718\",\n",
    "    vmax_xyl * (Xyl / (K_xyl * (1 + Glu/K_glu) + Xyl)),\n",
    "    Xyl\n",
    ")\n",
    "  \n",
    "# lower bound xylitol\n",
    "dfba_model.add_exchange_flux_lb( # glu\n",
    "    \"r_2104\",\n",
    "    vmax_xyo * (Xyo / (K_xyo + Xyo)),\n",
    "    Xyo\n",
    ")"
   ]
  },
  {
   "cell_type": "markdown",
   "metadata": {},
   "source": [
    "6. Initial conditions"
   ]
  },
  {
   "cell_type": "code",
   "execution_count": null,
   "metadata": {},
   "outputs": [],
   "source": [
    "dfba_model.add_initial_conditions(\n",
    "    {\n",
    "        \"Biomass\": 0.01, # (gDW/L)\n",
    "        \"Glucose\": 5, # (g/L)\n",
    "        \"Xylose\": 5,   # (g/L)\n",
    "        \"Xylitol\": 0,  # (mmol/L)\n",
    "    }\n",
    ")\n",
    "concentrations, trajectories = dfba_model.simulate(0.0, 25.0, 0.1, [\"r_1714\", \"r_1718\", \"r_2104\"])"
   ]
  },
  {
   "cell_type": "markdown",
   "metadata": {},
   "source": [
    "7. Plot results"
   ]
  },
  {
   "cell_type": "code",
   "execution_count": null,
   "metadata": {},
   "outputs": [],
   "source": [
    "from dfba.plot.matplotlib import *\n",
    "plot_concentrations(concentrations)"
   ]
  }
 ],
 "metadata": {
  "kernelspec": {
   "display_name": "Python 3",
   "language": "python",
   "name": "python3"
  },
  "language_info": {
   "codemirror_mode": {
    "name": "ipython",
    "version": 3
   },
   "file_extension": ".py",
   "mimetype": "text/x-python",
   "name": "python",
   "nbconvert_exporter": "python",
   "pygments_lexer": "ipython3",
   "version": "3.8.3"
  }
 },
 "nbformat": 4,
 "nbformat_minor": 4
}
