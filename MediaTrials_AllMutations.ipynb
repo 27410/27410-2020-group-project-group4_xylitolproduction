{
 "cells": [
  {
   "cell_type": "markdown",
   "metadata": {},
   "source": [
    "1. Load the model Yeast8"
   ]
  },
  {
   "cell_type": "code",
   "execution_count": 2,
   "metadata": {},
   "outputs": [],
   "source": [
    "from cobra.io import read_sbml_model\n",
    "from cobra import Reaction, Metabolite\n",
    "\n",
    "model = read_sbml_model('yeastGEM.xml')"
   ]
  },
  {
   "cell_type": "markdown",
   "metadata": {},
   "source": [
    "2. Running model with Standard Medium"
   ]
  },
  {
   "cell_type": "code",
   "execution_count": 2,
   "metadata": {},
   "outputs": [],
   "source": [
    "# optimize for biomass growth with Standard Medium"
   ]
  },
  {
   "cell_type": "code",
   "execution_count": 3,
   "metadata": {},
   "outputs": [
    {
     "name": "stdout",
     "output_type": "stream",
     "text": [
      "0.08374778664999834\n"
     ]
    }
   ],
   "source": [
    "model.optimize()                               \n",
    "print(model.objective.value)"
   ]
  },
  {
   "cell_type": "code",
   "execution_count": 4,
   "metadata": {},
   "outputs": [],
   "source": [
    "#Create reaction dictionary"
   ]
  },
  {
   "cell_type": "code",
<<<<<<< HEAD
   "execution_count": 5,
=======
   "execution_count": 6,
>>>>>>> a05b4020b64ba59eaff0176bf1309ee0b20dbb76
   "metadata": {},
   "outputs": [],
   "source": [
    "xyodict = {1: \"r_2105\", # xylitol transport\n",
    "           2: \"r_1719\", # D-xylose transport\n",
    "           3: \"r_1093\", # xylose reductase\n",
    "           4: \"r_1092\"  # xylitol dehydrogenase\n",
    "          }"
   ]
  },
  {
   "cell_type": "code",
   "execution_count": 6,
   "metadata": {},
   "outputs": [],
   "source": [
    "#Check the standard medium. (medium that has as carbon source Glucose)\n"
   ]
  },
  {
   "cell_type": "code",
   "execution_count": 7,
   "metadata": {},
   "outputs": [
    {
     "name": "stdout",
     "output_type": "stream",
     "text": [
      "ammonium exchange r_1654: s_0420[e] <=>  1000.0\n",
      "D-glucose exchange r_1714: s_0565[e] <=>  1.0\n",
      "H+ exchange r_1832: s_0796[e] <=>  1000.0\n",
      "iron(2+) exchange r_1861: s_0925[e] <=>  1000.0\n",
      "oxygen exchange r_1992: s_1277[e] <=>  1000.0\n",
      "phosphate exchange r_2005: s_1324[e] <=>  1000.0\n",
      "potassium exchange r_2020: s_1374[e] <=>  1000.0\n",
      "sodium exchange r_2049: s_1438[e] <=>  1000.0\n",
      "sulphate exchange r_2060: s_1468[e] <=>  1000.0\n",
      "water exchange r_2100: s_0805[e] <=>  1000.0\n",
      "chloride exchange r_4593: s_4200[e] <=>  1000.0\n",
      "Cu2(+) exchange r_4594: s_4201[e] <=>  1000.0\n",
      "Mn(2+) exchange r_4595: s_4202[e] <=>  1000.0\n",
      "Zn(2+) exchange r_4596: s_4203[e] <=>  1000.0\n",
      "Mg(2+) exchange r_4597: s_4204[e] <=>  1000.0\n",
      "Ca(2+) exchange r_4600: s_4199[e] <=>  1000.0\n"
     ]
    }
   ],
   "source": [
    "medium_glu = model.medium\n",
    "for element in medium_glu.keys():\n",
    "    print(model.reactions.get_by_id(element).name, model.reactions.get_by_id(element), medium_glu[element])"
   ]
  },
  {
   "cell_type": "code",
   "execution_count": 8,
   "metadata": {},
   "outputs": [],
   "source": [
    "#Run the model with the standard medium "
   ]
  },
  {
   "cell_type": "code",
   "execution_count": 9,
   "metadata": {},
   "outputs": [
    {
     "name": "stdout",
     "output_type": "stream",
     "text": [
      "Objective\n",
      "=========\n",
      "1.0 r_2111 = 0.08374778664999821\n",
      "\n",
      "Uptake\n",
      "------\n",
      "Metabolite Reaction      Flux  C-Number   C-Flux\n",
      " s_0420[e]   r_1654    0.5988         0    0.00%\n",
      " s_0565[e]   r_1714         1         6  100.00%\n",
      " s_0796[e]   r_1832   0.04236         0    0.00%\n",
      " s_0925[e]   r_1861 2.546E-06         0    0.00%\n",
      " s_1277[e]   r_1992      2.25         0    0.00%\n",
      " s_1324[e]   r_2005    0.5449         0    0.00%\n",
      " s_1374[e]   r_2020  0.000304         0    0.00%\n",
      " s_1438[e]   r_2049 0.0003325         0    0.00%\n",
      " s_1468[e]   r_2060  0.007203         0    0.00%\n",
      " s_4200[e]   r_4593  0.000108         0    0.00%\n",
      " s_4201[e]   r_4594 5.519E-05         0    0.00%\n",
      " s_4202[e]   r_4595 0.0002286         0    0.00%\n",
      " s_4203[e]   r_4596 6.264E-05         0    0.00%\n",
      " s_4204[e]   r_4597 0.0001041         0    0.00%\n",
      " s_4199[e]   r_4600 1.817E-05         0    0.00%\n",
      "\n",
      "Secretion\n",
      "---------\n",
      "Metabolite Reaction      Flux  C-Number   C-Flux\n",
      " s_0458[e]   r_1672     -2.39         1  100.00%\n",
      " s_0776[e]   r_1814 -5.41E-06         2    0.00%\n",
      " s_0805[e]   r_2100    -4.302         0    0.00%\n",
      " s_0450[c]   r_2111  -0.08375         0    0.00%\n",
      " s_4157[e]   r_4527   -0.2515         0    0.00%\n",
      "\n",
      "xylitol transport 0.0\n",
      "D-xylose transport 0.0\n",
      "xylose reductase 0.0\n",
      "xylitol dehydrogenase (D-xyulose-forming) 0.0\n"
     ]
    }
   ],
   "source": [
    "solution = model.optimize()\n",
    "print(model.summary())\n",
    "for key in xyodict.keys():\n",
    "    print(model.reactions.get_by_id(xyodict[key]).name, model.reactions.get_by_id(xyodict[key]).flux)"
   ]
  },
  {
   "cell_type": "markdown",
   "metadata": {},
   "source": [
    "We can see how when the model is run with the standard medium (no xylose is present) the Xylitol transporter, Xylose transporter, Xylose Reductase (XR) and Xylitol Dehydrogenase (XDH) have flux equal to 0.  That means that with out Xylose in the media all the pathway is not active."
   ]
  },
  {
   "cell_type": "markdown",
   "metadata": {},
   "source": [
    "3. Medium Change, trying different proportions of Glucose and Xylose"
   ]
  },
  {
   "cell_type": "markdown",
   "metadata": {},
   "source": [
    "3.1. Medium with Glucose and with Xylose (medium_50: 50% Glucose/50% Xylose as carbon sources)"
   ]
  },
  {
   "cell_type": "code",
   "execution_count": 10,
   "metadata": {},
   "outputs": [
    {
     "name": "stdout",
     "output_type": "stream",
     "text": [
      "ammonium exchange r_1654: s_0420[e] <=>  1000.0\n",
      "D-glucose exchange r_1714: s_0565[e] <=>  1.0\n",
      "H+ exchange r_1832: s_0796[e] <=>  1000.0\n",
      "iron(2+) exchange r_1861: s_0925[e] <=>  1000.0\n",
      "oxygen exchange r_1992: s_1277[e] <=>  1000.0\n",
      "phosphate exchange r_2005: s_1324[e] <=>  1000.0\n",
      "potassium exchange r_2020: s_1374[e] <=>  1000.0\n",
      "sodium exchange r_2049: s_1438[e] <=>  1000.0\n",
      "sulphate exchange r_2060: s_1468[e] <=>  1000.0\n",
      "water exchange r_2100: s_0805[e] <=>  1000.0\n",
      "chloride exchange r_4593: s_4200[e] <=>  1000.0\n",
      "Cu2(+) exchange r_4594: s_4201[e] <=>  1000.0\n",
      "Mn(2+) exchange r_4595: s_4202[e] <=>  1000.0\n",
      "Zn(2+) exchange r_4596: s_4203[e] <=>  1000.0\n",
      "Mg(2+) exchange r_4597: s_4204[e] <=>  1000.0\n",
      "Ca(2+) exchange r_4600: s_4199[e] <=>  1000.0\n",
      "D-xylose exchange r_1718: s_0579[e] -->  1.0\n"
     ]
    }
   ],
   "source": [
    "medium_50 = medium_glu\n",
    "with model: \n",
    "    medium_50['r_1714'] = 1.0\n",
    "    medium_50['r_1718'] = 1.0\n",
    "\n",
    "for element in medium_50.keys():\n",
    "    print(model.reactions.get_by_id(element).name, model.reactions.get_by_id(element), medium_50[element])"
   ]
  },
  {
   "cell_type": "code",
   "execution_count": 11,
   "metadata": {},
   "outputs": [
    {
     "name": "stdout",
     "output_type": "stream",
     "text": [
      "Objective\n",
      "=========\n",
      "1.0 r_2111 = 0.15402375242112307\n",
      "\n",
      "Uptake\n",
      "------\n",
      "Metabolite Reaction      Flux  C-Number  C-Flux\n",
      " s_0420[e]   r_1654     1.101         0   0.00%\n",
      " s_0565[e]   r_1714         1         6  54.55%\n",
      " s_0579[e]   r_1718         1         5  45.45%\n",
      " s_0796[e]   r_1832    0.0779         0   0.00%\n",
      " s_0925[e]   r_1861 4.836E-06         0   0.00%\n",
      " s_1277[e]   r_1992     4.103         0   0.00%\n",
      " s_1324[e]   r_2005     1.002         0   0.00%\n",
      " s_1374[e]   r_2020 0.0005591         0   0.00%\n",
      " s_1438[e]   r_2049 0.0006115         0   0.00%\n",
      " s_1468[e]   r_2060   0.01325         0   0.00%\n",
      " s_4200[e]   r_4593 0.0001987         0   0.00%\n",
      " s_4201[e]   r_4594 0.0001015         0   0.00%\n",
      " s_4202[e]   r_4595 0.0004205         0   0.00%\n",
      " s_4203[e]   r_4596 0.0001152         0   0.00%\n",
      " s_4204[e]   r_4597 0.0001914         0   0.00%\n",
      " s_4199[e]   r_4600 3.342E-05         0   0.00%\n",
      "\n",
      "Secretion\n",
      "---------\n",
      "Metabolite Reaction      Flux  C-Number   C-Flux\n",
      " s_0458[e]   r_1672    -4.361         1  100.00%\n",
      " s_0776[e]   r_1814 -9.95E-06         2    0.00%\n",
      " s_0805[e]   r_2100    -7.877         0    0.00%\n",
      " s_0450[c]   r_2111    -0.154         0    0.00%\n",
      " s_4157[e]   r_4527   -0.4626         0    0.00%\n",
      "\n",
      "xylitol transport 0.0\n",
      "D-xylose transport 1.0\n",
      "xylose reductase 1.0\n",
      "xylitol dehydrogenase (D-xyulose-forming) 1.0\n"
     ]
    }
   ],
   "source": [
    "with model:\n",
    "    model.medium = medium_50\n",
    "    solution50 = model.optimize()\n",
    "    print(model.summary())\n",
    "    for key in xyodict.keys():\n",
    "        print(model.reactions.get_by_id(xyodict[key]).name, model.reactions.get_by_id(xyodict[key]).flux)"
   ]
  },
  {
   "cell_type": "markdown",
   "metadata": {},
   "source": [
    "The growth increases to 0.154 when the growth media insted of having glucose have both xylose and glucose in equal proportions. Now it can also be seen how the  the Xylose transport, the XR and the XDH are active, however there is not Xylitol transport. "
   ]
  },
  {
   "cell_type": "code",
   "execution_count": 12,
   "metadata": {},
   "outputs": [
    {
     "name": "stdout",
     "output_type": "stream",
     "text": [
      "Objective\n",
      "=========\n",
      "1.0 r_2111 = 0.07652565852260584\n",
      "\n",
      "Uptake\n",
      "------\n",
      "Metabolite Reaction      Flux  C-Number  C-Flux\n",
      " s_0420[e]   r_1654    0.5471         0   0.00%\n",
      " s_0565[e]   r_1714         1         6  54.55%\n",
      " s_0579[e]   r_1718         1         5  45.45%\n",
      " s_0796[e]   r_1832    0.0387         0   0.00%\n",
      " s_0925[e]   r_1861 2.326E-06         0   0.00%\n",
      " s_1277[e]   r_1992     2.073         0   0.00%\n",
      " s_1324[e]   r_2005     0.498         0   0.00%\n",
      " s_1374[e]   r_2020 0.0002778         0   0.00%\n",
      " s_1438[e]   r_2049 0.0003038         0   0.00%\n",
      " s_1468[e]   r_2060  0.006582         0   0.00%\n",
      " s_4200[e]   r_4593 9.872E-05         0   0.00%\n",
      " s_4201[e]   r_4594 5.043E-05         0   0.00%\n",
      " s_4202[e]   r_4595 0.0002089         0   0.00%\n",
      " s_4203[e]   r_4596 5.724E-05         0   0.00%\n",
      " s_4204[e]   r_4597 9.509E-05         0   0.00%\n",
      " s_4199[e]   r_4600 1.661E-05         0   0.00%\n",
      "\n",
      "Secretion\n",
      "---------\n",
      "Metabolite Reaction       Flux  C-Number  C-Flux\n",
      " s_0458[e]   r_1672     -2.701         1  35.08%\n",
      " s_0776[e]   r_1814 -4.944E-06         2   0.00%\n",
      " s_0805[e]   r_2100     -3.448         0   0.00%\n",
      " s_1567[e]   r_2104         -1         5  64.92%\n",
      " s_0450[c]   r_2111   -0.07653         0   0.00%\n",
      " s_4157[e]   r_4527    -0.2298         0   0.00%\n",
      "\n",
      "xylitol transport -1.0\n",
      "D-xylose transport 1.0\n",
      "xylose reductase 1.0\n",
      "xylitol dehydrogenase (D-xyulose-forming) 0.0\n",
      "growth 0.07652565852260584\n",
      "D-glucose exchange -1.0\n",
      "glucose transport 1.0\n"
     ]
    }
   ],
   "source": [
    "with model:\n",
    "    model.medium = medium_50 # 50% glucose and 50% xylose as carbon sources in the medium\n",
    "    \n",
    "    ## regulations\n",
    "    model.reactions.r_1719.bounds = (1,10) # regulation for xylose transporter\n",
    "    model.reactions.r_1093.bounds = (1,10) # regulation for xylose reductase\n",
    "    model.genes.YLR070C.knock_out() # knockout for xylitol dehydrogenase\n",
    "    model.reactions.r_2104.bounds = (0,2) # regulation for xylitol transporter\n",
    "\n",
    "    \n",
    "    ## solve model\n",
    "    # model.objective = model.reactions.r_2104 # objective is maximum xylitol production\n",
    "    solution3 = model.optimize()\n",
    "    print(model.summary())\n",
    "    for key in xyodict.keys():\n",
    "        print(model.reactions.get_by_id(xyodict[key]).name, model.reactions.get_by_id(xyodict[key]).flux)\n",
    "    print(model.reactions.r_2111.name, model.reactions.r_2111.flux)\n",
    "    print(model.reactions.r_1714.name, model.reactions.r_1714.flux)\n",
    "    print(model.reactions.r_1166.name, model.reactions.r_1166.flux)"
   ]
  },
  {
   "cell_type": "code",
   "execution_count": 13,
   "metadata": {},
   "outputs": [
    {
     "name": "stdout",
     "output_type": "stream",
     "text": [
      "Objective\n",
      "=========\n",
      "1.0 r_2104 = 1.0\n",
      "\n",
      "Uptake\n",
      "------\n",
      "Metabolite Reaction   Flux  C-Number  C-Flux\n",
      " s_0565[e]   r_1714 0.2378         6  22.20%\n",
      " s_0579[e]   r_1718      1         5  77.80%\n",
      " s_1277[e]   r_1992 0.1545         0   0.00%\n",
      " s_0805[e]   r_2100 0.1911         0   0.00%\n",
      "\n",
      "Secretion\n",
      "---------\n",
      "Metabolite Reaction    Flux  C-Number  C-Flux\n",
      " s_0458[e]   r_1672    -0.5         1   7.78%\n",
      " s_0796[e]   r_1832 -0.3089         0   0.00%\n",
      " s_1400[e]   r_2033 -0.3089         3  14.42%\n",
      " s_1567[e]   r_2104      -1         5  77.80%\n",
      "\n",
      "xylitol transport -1.0\n",
      "D-xylose transport 1.0\n",
      "xylose reductase 1.0\n",
      "xylitol dehydrogenase (D-xyulose-forming) 0.0\n",
      "growth 0.0\n",
      "D-glucose exchange -0.23779052662547834\n",
      "glucose transport 0.23779052662547834\n"
     ]
    }
   ],
   "source": [
    "with model:\n",
    "    model.medium = medium_50 # 50% glucose and 50% xylose as carbon sources in the medium\n",
    "    \n",
    "    ## regulations\n",
    "    model.reactions.r_1719.bounds = (1,10) # regulation for xylose transporter\n",
    "    model.reactions.r_1093.bounds = (1,10) # regulation for xylose reductase\n",
    "    model.genes.YLR070C.knock_out() # knockout for xylitol dehydrogenase\n",
    "    model.reactions.r_2104.bounds = (0,2) # regulation for xylitol transporter\n",
    "\n",
    "    \n",
    "    ## solve model\n",
    "    model.objective = model.reactions.r_2104 # objective is maximum xylitol production\n",
    "    solution3 = model.optimize()\n",
    "    print(model.summary())\n",
    "    for key in xyodict.keys():\n",
    "        print(model.reactions.get_by_id(xyodict[key]).name, model.reactions.get_by_id(xyodict[key]).flux)\n",
    "    print(model.reactions.r_2111.name, model.reactions.r_2111.flux)\n",
    "    print(model.reactions.r_1714.name, model.reactions.r_1714.flux)\n",
    "    print(model.reactions.r_1166.name, model.reactions.r_1166.flux)"
   ]
  },
  {
   "cell_type": "code",
   "execution_count": 14,
   "metadata": {},
   "outputs": [
    {
     "name": "stdout",
     "output_type": "stream",
     "text": [
      "ammonium exchange r_1654: s_0420[e] <=>  1000.0\n",
      "D-glucose exchange r_1714: s_0565[e] <=>  1.5\n",
      "H+ exchange r_1832: s_0796[e] <=>  1000.0\n",
      "iron(2+) exchange r_1861: s_0925[e] <=>  1000.0\n",
      "oxygen exchange r_1992: s_1277[e] <=>  1000.0\n",
      "phosphate exchange r_2005: s_1324[e] <=>  1000.0\n",
      "potassium exchange r_2020: s_1374[e] <=>  1000.0\n",
      "sodium exchange r_2049: s_1438[e] <=>  1000.0\n",
      "sulphate exchange r_2060: s_1468[e] <=>  1000.0\n",
      "water exchange r_2100: s_0805[e] <=>  1000.0\n",
      "chloride exchange r_4593: s_4200[e] <=>  1000.0\n",
      "Cu2(+) exchange r_4594: s_4201[e] <=>  1000.0\n",
      "Mn(2+) exchange r_4595: s_4202[e] <=>  1000.0\n",
      "Zn(2+) exchange r_4596: s_4203[e] <=>  1000.0\n",
      "Mg(2+) exchange r_4597: s_4204[e] <=>  1000.0\n",
      "Ca(2+) exchange r_4600: s_4199[e] <=>  1000.0\n",
      "D-xylose exchange r_1718: s_0579[e] -->  0.5\n"
     ]
    }
   ],
   "source": [
    "medium_glu15 = medium_glu # 75% glucose and 25% xylose as carbon sources in the medium\n",
    "with model: \n",
    "    medium_glu15['r_1714'] = 1.5\n",
    "    medium_glu15['r_1718'] = 0.5\n",
    "\n",
    "for element in medium_glu15.keys():\n",
    "    print(model.reactions.get_by_id(element).name, model.reactions.get_by_id(element), medium_glu15[element])"
   ]
  },
  {
   "cell_type": "code",
   "execution_count": 15,
   "metadata": {},
   "outputs": [
    {
     "name": "stdout",
     "output_type": "stream",
     "text": [
      "Objective\n",
      "=========\n",
      "1.0 r_2111 = 0.1622184562872174\n",
      "\n",
      "Uptake\n",
      "------\n",
      "Metabolite Reaction      Flux  C-Number  C-Flux\n",
      " s_0420[e]   r_1654      1.16         0   0.00%\n",
      " s_0565[e]   r_1714       1.5         6  78.26%\n",
      " s_0579[e]   r_1718       0.5         5  21.74%\n",
      " s_0796[e]   r_1832   0.08204         0   0.00%\n",
      " s_0925[e]   r_1861 5.094E-06         0   0.00%\n",
      " s_1277[e]   r_1992     4.236         0   0.00%\n",
      " s_1324[e]   r_2005     1.056         0   0.00%\n",
      " s_1374[e]   r_2020 0.0005889         0   0.00%\n",
      " s_1438[e]   r_2049  0.000644         0   0.00%\n",
      " s_1468[e]   r_2060   0.01395         0   0.00%\n",
      " s_4200[e]   r_4593 0.0002093         0   0.00%\n",
      " s_4201[e]   r_4594 0.0001069         0   0.00%\n",
      " s_4202[e]   r_4595 0.0004429         0   0.00%\n",
      " s_4203[e]   r_4596 0.0001213         0   0.00%\n",
      " s_4204[e]   r_4597 0.0002016         0   0.00%\n",
      " s_4199[e]   r_4600  3.52E-05         0   0.00%\n",
      "\n",
      "Secretion\n",
      "---------\n",
      "Metabolite Reaction       Flux  C-Number   C-Flux\n",
      " s_0458[e]   r_1672     -4.508         1  100.00%\n",
      " s_0776[e]   r_1814 -1.048E-05         2    0.00%\n",
      " s_0805[e]   r_2100     -8.211         0    0.00%\n",
      " s_0450[c]   r_2111    -0.1622         0    0.00%\n",
      " s_4157[e]   r_4527    -0.4872         0    0.00%\n",
      "\n",
      "xylitol transport 0.0\n",
      "D-xylose transport 0.5\n",
      "xylose reductase 0.5\n",
      "xylitol dehydrogenase (D-xyulose-forming) 0.5\n"
     ]
    }
   ],
   "source": [
    "with model:\n",
    "    model.medium = medium_glu15\n",
    "    solution_glu15 = model.optimize()\n",
    "    print(model.summary())\n",
    "    for key in xyodict.keys():\n",
    "        print(model.reactions.get_by_id(xyodict[key]).name, model.reactions.get_by_id(xyodict[key]).flux)"
   ]
  },
  {
   "cell_type": "code",
   "execution_count": 16,
   "metadata": {},
   "outputs": [
    {
     "name": "stdout",
     "output_type": "stream",
     "text": [
      "Objective\n",
      "=========\n",
      "1.0 r_2104 = 0.5\n",
      "\n",
      "Uptake\n",
      "------\n",
      "Metabolite Reaction   Flux  C-Number  C-Flux\n",
      " s_0565[e]   r_1714 0.1582         6  27.52%\n",
      " s_0579[e]   r_1718    0.5         5  72.48%\n",
      " s_1277[e]   r_1992 0.1694         0   0.00%\n",
      "\n",
      "Secretion\n",
      "---------\n",
      "Metabolite Reaction     Flux  C-Number  C-Flux\n",
      " s_0458[e]   r_1672  -0.3134         1   9.09%\n",
      " s_0796[e]   r_1832   -0.212         0   0.00%\n",
      " s_1400[e]   r_2033   -0.212         3  18.44%\n",
      " s_0805[e]   r_2100 -0.02536         0   0.00%\n",
      " s_1567[e]   r_2104     -0.5         5  72.48%\n",
      "\n",
      "xylitol transport -0.5\n",
      "D-xylose transport 0.5\n",
      "xylose reductase 0.5\n",
      "xylitol dehydrogenase (D-xyulose-forming) 0.0\n",
      "growth 0.0\n",
      "D-glucose exchange -0.1582135545283773\n",
      "glucose transport 0.1582135545283773\n"
     ]
    }
   ],
   "source": [
    "with model:\n",
    "    model.medium = medium_glu15 # 75% glucose and 25% xylose as carbon sources in the medium\n",
    "    \n",
    "    ## regulations\n",
    "    model.reactions.r_1719.bounds = (0,10) # regulation for xylose transporter\n",
    "    model.reactions.r_1093.bounds = (0,10) # regulation for xylose reductase\n",
    "    model.genes.YLR070C.knock_out() # knockout for xylitol dehydrogenase\n",
    "    model.reactions.r_2104.bounds = (0,2) # regulation for xylitol transporter\n",
    "\n",
    "    \n",
    "    ## solve model\n",
    "    model.objective = model.reactions.r_2104 # objective is maximum xylitol production\n",
    "    solution3 = model.optimize()\n",
    "    print(model.summary())\n",
    "    for key in xyodict.keys():\n",
    "        print(model.reactions.get_by_id(xyodict[key]).name, model.reactions.get_by_id(xyodict[key]).flux)\n",
    "    print(model.reactions.r_2111.name, model.reactions.r_2111.flux)\n",
    "    print(model.reactions.r_1714.name, model.reactions.r_1714.flux)\n",
    "    print(model.reactions.r_1166.name, model.reactions.r_1166.flux)"
   ]
  },
  {
   "cell_type": "code",
   "execution_count": 17,
   "metadata": {},
   "outputs": [
    {
     "name": "stdout",
     "output_type": "stream",
     "text": [
      "ammonium exchange r_1654: s_0420[e] <=>  1000.0\n",
      "D-glucose exchange r_1714: s_0565[e] <=>  0.5\n",
      "H+ exchange r_1832: s_0796[e] <=>  1000.0\n",
      "iron(2+) exchange r_1861: s_0925[e] <=>  1000.0\n",
      "oxygen exchange r_1992: s_1277[e] <=>  1000.0\n",
      "phosphate exchange r_2005: s_1324[e] <=>  1000.0\n",
      "potassium exchange r_2020: s_1374[e] <=>  1000.0\n",
      "sodium exchange r_2049: s_1438[e] <=>  1000.0\n",
      "sulphate exchange r_2060: s_1468[e] <=>  1000.0\n",
      "water exchange r_2100: s_0805[e] <=>  1000.0\n",
      "chloride exchange r_4593: s_4200[e] <=>  1000.0\n",
      "Cu2(+) exchange r_4594: s_4201[e] <=>  1000.0\n",
      "Mn(2+) exchange r_4595: s_4202[e] <=>  1000.0\n",
      "Zn(2+) exchange r_4596: s_4203[e] <=>  1000.0\n",
      "Mg(2+) exchange r_4597: s_4204[e] <=>  1000.0\n",
      "Ca(2+) exchange r_4600: s_4199[e] <=>  1000.0\n",
      "D-xylose exchange r_1718: s_0579[e] -->  1.5\n"
     ]
    }
   ],
   "source": [
    "medium_xyl15 = medium_glu # 25% glucose and 75% xylose as carbon sources in the medium\n",
    "with model: \n",
    "    medium_xyl15['r_1714'] = 0.5\n",
    "    medium_xyl15['r_1718'] = 1.5\n",
    "\n",
    "for element in medium_xyl15.keys():\n",
    "    print(model.reactions.get_by_id(element).name, model.reactions.get_by_id(element), medium_xyl15[element])"
   ]
  },
  {
   "cell_type": "code",
   "execution_count": 18,
   "metadata": {},
   "outputs": [
    {
     "name": "stdout",
     "output_type": "stream",
     "text": [
      "Objective\n",
      "=========\n",
      "1.0 r_2104 = 1.4999999999999998\n",
      "\n",
      "Uptake\n",
      "------\n",
      "Metabolite Reaction   Flux  C-Number  C-Flux\n",
      " s_0565[e]   r_1714 0.2795         6  18.27%\n",
      " s_0579[e]   r_1718    1.5         5  81.73%\n",
      " s_1277[e]   r_1992 0.1545         0   0.00%\n",
      " s_0805[e]   r_2100 0.4411         0   0.00%\n",
      "\n",
      "Secretion\n",
      "---------\n",
      "Metabolite Reaction    Flux  C-Number  C-Flux\n",
      " s_0458[e]   r_1672   -0.75         1   8.17%\n",
      " s_0796[e]   r_1832 -0.3089         0   0.00%\n",
      " s_1400[e]   r_2033 -0.3089         3  10.10%\n",
      " s_1567[e]   r_2104    -1.5         5  81.73%\n",
      "\n",
      "xylitol transport -1.4999999999999998\n",
      "D-xylose transport 1.5\n",
      "xylose reductase 1.5\n",
      "xylitol dehydrogenase (D-xyulose-forming) 0.0\n",
      "growth 0.0\n",
      "D-glucose exchange -0.2794571932921448\n",
      "glucose transport 0.2794571932921448\n"
     ]
    }
   ],
   "source": [
    "with model:\n",
    "    model.medium = medium_xyl15 # 25% glucose and 75% xylose as carbon sources in the medium\n",
    "    \n",
    "    ## regulations\n",
    "    model.reactions.r_1719.bounds = (0,10) # regulation for xylose transporter\n",
    "    model.reactions.r_1093.bounds = (0,10) # regulation for xylose reductase\n",
    "    model.genes.YLR070C.knock_out() # knockout for xylitol dehydrogenase\n",
    "    model.reactions.r_2104.bounds = (0,2) # regulation for xylitol transporter\n",
    "\n",
    "    \n",
    "    ## solve model\n",
    "    model.objective = model.reactions.r_2104 # objective is maximum xylitol production\n",
    "    solution3 = model.optimize()\n",
    "    print(model.summary())\n",
    "    for key in xyodict.keys():\n",
    "        print(model.reactions.get_by_id(xyodict[key]).name, model.reactions.get_by_id(xyodict[key]).flux)\n",
    "    print(model.reactions.r_2111.name, model.reactions.r_2111.flux)\n",
    "    print(model.reactions.r_1714.name, model.reactions.r_1714.flux)\n",
    "    print(model.reactions.r_1166.name, model.reactions.r_1166.flux)"
   ]
  },
  {
   "cell_type": "code",
   "execution_count": 19,
   "metadata": {},
   "outputs": [
    {
     "name": "stdout",
     "output_type": "stream",
     "text": [
      "ammonium exchange r_1654: s_0420[e] <=>  1000.0\n",
      "D-glucose exchange r_1714: s_0565[e] <=>  1.2\n",
      "H+ exchange r_1832: s_0796[e] <=>  1000.0\n",
      "iron(2+) exchange r_1861: s_0925[e] <=>  1000.0\n",
      "oxygen exchange r_1992: s_1277[e] <=>  1000.0\n",
      "phosphate exchange r_2005: s_1324[e] <=>  1000.0\n",
      "potassium exchange r_2020: s_1374[e] <=>  1000.0\n",
      "sodium exchange r_2049: s_1438[e] <=>  1000.0\n",
      "sulphate exchange r_2060: s_1468[e] <=>  1000.0\n",
      "water exchange r_2100: s_0805[e] <=>  1000.0\n",
      "chloride exchange r_4593: s_4200[e] <=>  1000.0\n",
      "Cu2(+) exchange r_4594: s_4201[e] <=>  1000.0\n",
      "Mn(2+) exchange r_4595: s_4202[e] <=>  1000.0\n",
      "Zn(2+) exchange r_4596: s_4203[e] <=>  1000.0\n",
      "Mg(2+) exchange r_4597: s_4204[e] <=>  1000.0\n",
      "Ca(2+) exchange r_4600: s_4199[e] <=>  1000.0\n",
      "D-xylose exchange r_1718: s_0579[e] -->  0.8\n"
     ]
    }
   ],
   "source": [
    "medium_glu12 = medium_glu # 60% glucose and 40% xylose as carbon sources in the medium\n",
    "with model: \n",
    "    medium_glu12['r_1714'] = 1.2\n",
    "    medium_glu12['r_1718'] = 0.8\n",
    "\n",
    "for element in medium_glu12.keys():\n",
    "    print(model.reactions.get_by_id(element).name, model.reactions.get_by_id(element), medium_glu12[element])"
   ]
  },
  {
   "cell_type": "code",
   "execution_count": 20,
   "metadata": {},
   "outputs": [
    {
     "name": "stdout",
     "output_type": "stream",
     "text": [
      "Objective\n",
      "=========\n",
      "1.0 r_2104 = 0.8\n",
      "\n",
      "Uptake\n",
      "------\n",
      "Metabolite Reaction    Flux  C-Number  C-Flux\n",
      " s_0565[e]   r_1714  0.2211         6  24.91%\n",
      " s_0579[e]   r_1718     0.8         5  75.09%\n",
      " s_1277[e]   r_1992  0.1545         0   0.00%\n",
      " s_0805[e]   r_2100 0.09109         0   0.00%\n",
      "\n",
      "Secretion\n",
      "---------\n",
      "Metabolite Reaction    Flux  C-Number  C-Flux\n",
      " s_0458[e]   r_1672    -0.4         1   7.51%\n",
      " s_0796[e]   r_1832 -0.3089         0   0.00%\n",
      " s_1400[e]   r_2033 -0.3089         3  17.40%\n",
      " s_1567[e]   r_2104    -0.8         5  75.09%\n",
      "\n",
      "xylitol transport -0.8\n",
      "D-xylose transport 0.8\n",
      "xylose reductase 0.8\n",
      "xylitol dehydrogenase (D-xyulose-forming) 0.0\n",
      "growth 0.0\n",
      "D-glucose exchange -0.22112385995881145\n",
      "glucose transport 0.22112385995881145\n"
     ]
    }
   ],
   "source": [
    "with model:\n",
    "    model.medium = medium_glu12 # 60% glucose and 40% xylose as carbon sources in the medium\n",
    "    \n",
    "    ## regulations\n",
    "    model.reactions.r_1719.bounds = (0,10) # regulation for xylose transporter\n",
    "    model.reactions.r_1093.bounds = (0,10) # regulation for xylose reductase\n",
    "    model.genes.YLR070C.knock_out() # knockout for xylitol dehydrogenase\n",
    "    model.reactions.r_2104.bounds = (0,2) # regulation for xylitol transporter\n",
    "\n",
    "    \n",
    "    ## solve model\n",
    "    model.objective = model.reactions.r_2104 # objective is maximum xylitol production\n",
    "    solution3 = model.optimize()\n",
    "    print(model.summary())\n",
    "    for key in xyodict.keys():\n",
    "        print(model.reactions.get_by_id(xyodict[key]).name, model.reactions.get_by_id(xyodict[key]).flux)\n",
    "    print(model.reactions.r_2111.name, model.reactions.r_2111.flux)\n",
    "    print(model.reactions.r_1714.name, model.reactions.r_1714.flux)\n",
    "    print(model.reactions.r_1166.name, model.reactions.r_1166.flux)"
   ]
  },
  {
   "cell_type": "code",
   "execution_count": 21,
   "metadata": {},
   "outputs": [
    {
     "name": "stdout",
     "output_type": "stream",
     "text": [
      "ammonium exchange r_1654: s_0420[e] <=>  1000.0\n",
      "D-glucose exchange r_1714: s_0565[e] <=>  0.8\n",
      "H+ exchange r_1832: s_0796[e] <=>  1000.0\n",
      "iron(2+) exchange r_1861: s_0925[e] <=>  1000.0\n",
      "oxygen exchange r_1992: s_1277[e] <=>  1000.0\n",
      "phosphate exchange r_2005: s_1324[e] <=>  1000.0\n",
      "potassium exchange r_2020: s_1374[e] <=>  1000.0\n",
      "sodium exchange r_2049: s_1438[e] <=>  1000.0\n",
      "sulphate exchange r_2060: s_1468[e] <=>  1000.0\n",
      "water exchange r_2100: s_0805[e] <=>  1000.0\n",
      "chloride exchange r_4593: s_4200[e] <=>  1000.0\n",
      "Cu2(+) exchange r_4594: s_4201[e] <=>  1000.0\n",
      "Mn(2+) exchange r_4595: s_4202[e] <=>  1000.0\n",
      "Zn(2+) exchange r_4596: s_4203[e] <=>  1000.0\n",
      "Mg(2+) exchange r_4597: s_4204[e] <=>  1000.0\n",
      "Ca(2+) exchange r_4600: s_4199[e] <=>  1000.0\n",
      "D-xylose exchange r_1718: s_0579[e] -->  1.2\n"
     ]
    }
   ],
   "source": [
    "medium_xyl12 = medium_glu # 40% glucose and 60% xylose as carbon sources in the medium\n",
    "with model: \n",
    "    medium_glu12['r_1714'] = 0.8\n",
    "    medium_glu12['r_1718'] = 1.2\n",
    "\n",
    "for element in medium_xyl12.keys():\n",
    "    print(model.reactions.get_by_id(element).name, model.reactions.get_by_id(element), medium_xyl12[element])"
   ]
  },
  {
   "cell_type": "code",
   "execution_count": 22,
   "metadata": {},
   "outputs": [
    {
     "name": "stdout",
     "output_type": "stream",
     "text": [
      "Objective\n",
      "=========\n",
      "1.0 r_2104 = 1.1999999999999993\n",
      "\n",
      "Uptake\n",
      "------\n",
      "Metabolite Reaction   Flux  C-Number  C-Flux\n",
      " s_0565[e]   r_1714 0.2545         6  20.28%\n",
      " s_0579[e]   r_1718    1.2         5  79.72%\n",
      " s_1277[e]   r_1992 0.1545         0   0.00%\n",
      " s_0805[e]   r_2100 0.2911         0   0.00%\n",
      "\n",
      "Secretion\n",
      "---------\n",
      "Metabolite Reaction    Flux  C-Number  C-Flux\n",
      " s_0458[e]   r_1672    -0.6         1   7.97%\n",
      " s_0796[e]   r_1832 -0.3089         0   0.00%\n",
      " s_1400[e]   r_2033 -0.3089         3  12.31%\n",
      " s_1567[e]   r_2104    -1.2         5  79.72%\n",
      "\n",
      "xylitol transport -1.1999999999999993\n",
      "D-xylose transport 1.2\n",
      "xylose reductase 1.2\n",
      "xylitol dehydrogenase (D-xyulose-forming) 0.0\n",
      "growth 0.0\n",
      "D-glucose exchange -0.2544571932921447\n",
      "glucose transport 0.2544571932921447\n"
     ]
    }
   ],
   "source": [
    "with model:\n",
    "    model.medium = medium_xyl12 # 40% glucose and 60% xylose as carbon sources in the medium\n",
    "    \n",
    "    ## regulations\n",
    "    model.reactions.r_1719.bounds = (0,10) # regulation for xylose transporter\n",
    "    model.reactions.r_1093.bounds = (0,10) # regulation for xylose reductase\n",
    "    model.genes.YLR070C.knock_out() # knockout for xylitol dehydrogenase\n",
    "    model.reactions.r_2104.bounds = (0,2) # regulation for xylitol transporter\n",
    "\n",
    "    \n",
    "    ## solve model\n",
    "    model.objective = model.reactions.r_2104 # objective is maximum xylitol production\n",
    "    solution3 = model.optimize()\n",
    "    print(model.summary())\n",
    "    for key in xyodict.keys():\n",
    "        print(model.reactions.get_by_id(xyodict[key]).name, model.reactions.get_by_id(xyodict[key]).flux)\n",
    "    print(model.reactions.r_2111.name, model.reactions.r_2111.flux)\n",
    "    print(model.reactions.r_1714.name, model.reactions.r_1714.flux)\n",
    "    print(model.reactions.r_1166.name, model.reactions.r_1166.flux)"
   ]
  }
 ],
 "metadata": {
  "kernelspec": {
   "display_name": "Python 3",
   "language": "python",
   "name": "python3"
  },
  "language_info": {
   "codemirror_mode": {
    "name": "ipython",
    "version": 3
   },
   "file_extension": ".py",
   "mimetype": "text/x-python",
   "name": "python",
   "nbconvert_exporter": "python",
   "pygments_lexer": "ipython3",
   "version": "3.8.3"
  }
 },
 "nbformat": 4,
 "nbformat_minor": 4
}
