{
 "cells": [
  {
   "cell_type": "markdown",
   "metadata": {},
   "source": [
    "1. Load the model Yeast8"
   ]
  },
  {
   "cell_type": "code",
   "execution_count": 10,
   "metadata": {},
   "outputs": [],
   "source": [
    "from cobra.io import read_sbml_model\n",
    "from cobra import Reaction, Metabolite\n",
    "\n",
    "model = read_sbml_model('yeastGEM.xml')"
   ]
  },
  {
   "cell_type": "markdown",
   "metadata": {},
   "source": [
    "2. Running model with Standard Medium"
   ]
  },
  {
   "cell_type": "code",
   "execution_count": 11,
   "metadata": {},
   "outputs": [],
   "source": [
    "# optimize for biomass growth with Standard Medium"
   ]
  },
  {
   "cell_type": "code",
   "execution_count": 12,
   "metadata": {},
   "outputs": [
    {
     "name": "stdout",
     "output_type": "stream",
     "text": [
      "0.08374778664999834\n"
     ]
    }
   ],
   "source": [
    "model.optimize()                               \n",
    "print(model.objective.value)"
   ]
  },
  {
   "cell_type": "code",
   "execution_count": 31,
   "metadata": {},
   "outputs": [],
   "source": [
    "#Create reaction dictionary"
   ]
  },
  {
   "cell_type": "code",
   "execution_count": 13,
   "metadata": {},
   "outputs": [],
   "source": [
    "xyodict = {1: \"r_2105\", # xylitol transport\n",
    "           2: \"r_1719\", # D-xylose transport\n",
    "           3: \"r_1093\", # xylose reductase\n",
    "           4: \"r_1092\"  # xylitol dehydrogenase\n",
    "          }"
   ]
  },
  {
   "cell_type": "code",
   "execution_count": 14,
   "metadata": {},
   "outputs": [],
   "source": [
    "#Setting different medium conditions. The elements in the different mediums can be displayed replacing the pertinent number in the bottom code"
   ]
  },
  {
   "cell_type": "code",
   "execution_count": 99,
   "metadata": {},
   "outputs": [
    {
     "name": "stdout",
     "output_type": "stream",
     "text": [
      "ammonium exchange r_1654: s_0420[e] <=>  1000.0\n",
      "D-glucose exchange r_1714: s_0565[e] <=>  1.0\n",
      "H+ exchange r_1832: s_0796[e] <=>  1000.0\n",
      "iron(2+) exchange r_1861: s_0925[e] <=>  1000.0\n",
      "oxygen exchange r_1992: s_1277[e] <=>  1000.0\n",
      "phosphate exchange r_2005: s_1324[e] <=>  1000.0\n",
      "potassium exchange r_2020: s_1374[e] <=>  1000.0\n",
      "sodium exchange r_2049: s_1438[e] <=>  1000.0\n",
      "sulphate exchange r_2060: s_1468[e] <=>  1000.0\n",
      "water exchange r_2100: s_0805[e] <=>  1000.0\n",
      "chloride exchange r_4593: s_4200[e] <=>  1000.0\n",
      "Cu2(+) exchange r_4594: s_4201[e] <=>  1000.0\n",
      "Mn(2+) exchange r_4595: s_4202[e] <=>  1000.0\n",
      "Zn(2+) exchange r_4596: s_4203[e] <=>  1000.0\n",
      "Mg(2+) exchange r_4597: s_4204[e] <=>  1000.0\n",
      "Ca(2+) exchange r_4600: s_4199[e] <=>  1000.0\n"
     ]
    }
   ],
   "source": [
    "medium_glu = model.medium  # 100% glucose as carbon source in the medium\n",
    "\n",
    "with model: \n",
    "    medium_xyl['r_1714'] = 2.0\n",
    "\n",
    "medium_xyl = model.medium  # 100% xylose as carbon source in the medium\n",
    "with model: \n",
    "    medium_xyl['r_1714'] = 0.0\n",
    "    medium_xyl['r_1718'] = 2.0\n",
    "\n",
    "medium_50 = model.medium # 50% glucose and 50% xylose as carbon sources in the medium\n",
    "with model: \n",
    "    medium_50['r_1714'] = 1.0\n",
    "    medium_50['r_1718'] = 1.0\n",
    "    \n",
    "medium_glu15 = model.medium # 75% glucose and 25% xylose as carbon sources in the medium\n",
    "with model: \n",
    "    medium_glu15['r_1714'] = 1.5\n",
    "    medium_glu15['r_1718'] = 0.5\n",
    "    \n",
    "medium_xyl15 = model.medium # 25% glucose and 75% xylose as carbon sources in the medium\n",
    "with model: \n",
    "    medium_xyl15['r_1714'] = 0.5\n",
    "    medium_xyl15['r_1718'] = 1.5\n",
    "    \n",
    "medium_glu12 = model.medium # 60% glucose and 40% xylose as carbon sources in the medium\n",
    "with model: \n",
    "    medium_glu12['r_1714'] = 1.2\n",
    "    medium_glu12['r_1718'] = 0.8\n",
    "\n",
    "medium_xyl12 = model.medium # 40% glucose and 60% xylose as carbon sources in the medium\n",
    "with model: \n",
    "    medium_xyl12['r_1714'] = 0.8\n",
    "    medium_xyl12['r_1718'] = 1.2\n",
    "\n",
    "for element in medium_glu.keys():\n",
    "    print(model.reactions.get_by_id(element).name, model.reactions.get_by_id(element), medium_glu[element])"
   ]
  },
  {
   "cell_type": "markdown",
   "metadata": {},
   "source": [
    "3. Run the model with the selected medium. In this model there are already included a combination of the different mutations that have been proven to work individually with promise to improve xylitol production. This include upregulation of a xylose transporter form the medium to inside of the cell, an upregulation of the xylose reductase, for a higher xylitol conversion, a knock out of the gene XDH in the PPP pathway to prevent xylitol to keep going down the pathway, and an upregulation of the xylitol transporter. In the code below, we can combine these modifications with mediums with different composition, using alternative proportions of the two selected carbon sources: glucose and xylose. The idea behind this experiment is to determine the best conditions for xylitol production while still having cell growth. Also, all of the designed mutations are present and depicted. The idea behind it is to find the best combinations. "
   ]
  },
  {
   "cell_type": "code",
   "execution_count": 98,
   "metadata": {},
   "outputs": [
    {
     "name": "stdout",
     "output_type": "stream",
     "text": [
      "Objective\n",
      "=========\n",
      "1.0 r_2104 = 0.9999999999999998\n",
      "\n",
      "Uptake\n",
      "------\n",
      "Metabolite Reaction   Flux  C-Number  C-Flux\n",
      " s_0565[e]   r_1714 0.2378         6  22.20%\n",
      " s_0579[e]   r_1718      1         5  77.80%\n",
      " s_1277[e]   r_1992 0.1545         0   0.00%\n",
      " s_0805[e]   r_2100 0.1911         0   0.00%\n",
      "\n",
      "Secretion\n",
      "---------\n",
      "Metabolite Reaction    Flux  C-Number  C-Flux\n",
      " s_0458[e]   r_1672    -0.5         1   7.78%\n",
      " s_0796[e]   r_1832 -0.3089         0   0.00%\n",
      " s_1400[e]   r_2033 -0.3089         3  14.42%\n",
      " s_1567[e]   r_2104      -1         5  77.80%\n",
      "\n",
      "xylitol transport -0.9999999999999998\n",
      "D-xylose transport 1.0\n",
      "xylose reductase 1.0\n",
      "xylitol dehydrogenase (D-xyulose-forming) 0.0\n",
      "growth 0.0\n",
      "D-glucose exchange -0.23779052662547806\n",
      "glucose transport 0.23779052662547806\n",
      "Max.xylitol production [mmol gDW^-1]: 0.9999999999999998\n",
      "Theoretical max.yield [mmol-xylitol / mmol-xylose]: 0.9999999999999998\n"
     ]
    }
   ],
   "source": [
    "with model:\n",
    "    # model.medium = medium_glu  # 100% glucose as carbon source in the medium\n",
    "    # model.medium = medium_xyl # 100% xylose as carbon source in the medium\n",
    "    # model.medium = medium_glu15 # 75% glucose and 25% xylose as carbon sources in the medium\n",
    "    model.medium = medium_50 # 50% glucose and 50% xylose as carbon sources in the medium\n",
    "    # model.medium = medium_xyl15 # 25% glucose and 75% xylose as carbon sources in the medium\n",
    "    # model.medium = medium_glu12 # 60% glucose and 40% xylose as carbon sources in the medium\n",
    "    # model.medium = medium_xyl12 # 40% glucose and 60% xylose as carbon sources in the medium\n",
    "    ## regulations\n",
    "    model.reactions.r_1719.bounds = (0,10) # regulation for xylose transporter\n",
    "    model.reactions.r_1093.bounds = (0,10) # regulation for xylose reductase\n",
    "    model.genes.YLR070C.knock_out() # knockout for xylitol dehydrogenase\n",
    "    model.reactions.r_2104.bounds = (0,2) # regulation for xylitol transporter\n",
    "    model.reactions.r_0889.bounds = (0,10) # 6-phosphogluconate dehydrogenase\n",
    "    model.reactions.r_0466.bounds = (0,10) # Glucose-6-phosphate dehydrogenase\n",
    "\n",
    "    \n",
    "    ## solve model\n",
    "    model.objective = model.reactions.r_2104 # objective is maximum xylitol production\n",
    "    # model.objective = model.reactions.r_1093 # objective is maximum xylose reductase\n",
    "    xylitol_production = model.optimize().objective_value\n",
    "    print(model.summary())\n",
    "    for key in xyodict.keys():\n",
    "        print(model.reactions.get_by_id(xyodict[key]).name, model.reactions.get_by_id(xyodict[key]).flux)\n",
    "    print(model.reactions.r_2111.name, model.reactions.r_2111.flux)\n",
    "    print(model.reactions.r_1714.name, model.reactions.r_1714.flux)\n",
    "    print(model.reactions.r_1166.name, model.reactions.r_1166.flux)\n",
    "    print(\"Max.xylitol production [mmol gDW^-1]:\", xylitol_production)\n",
    "    print(\"Theoretical max.yield [mmol-xylitol / mmol-xylose]:\", xylitol_production/(-1*model.reactions.r_1718.flux))"
   ]
  },
  {
   "cell_type": "markdown",
   "metadata": {},
   "source": [
    "We can see how when the model is run with the standard medium medium_glu (no xylose is present) the xylitol transporter, xylose transporter, xylose reductase (XR) and xylitol dehydrogenase (XDH) have flux equal to 0. That means that with out Xylose in the media all the pathway is not active. We can also stablish that when the medium only has xylose, reaction r_2111 associated to cell growth is 0, suggesting that in this medium the cells even though they are able to produce xylitol, they are not able to multiply with the selected mutations. In fact the pure xylose medium with all of the mutations included results in the inhabilty of the cell to survive, while when we combine the mutants with a hybrid medium of xylose/glucose they are able to grow and produce xylitol in at a better rate than the unmodified strain, depending to the media composition. The code above allows the exploration of combinations of mutations and media conditions. The best observed results vary depending the objective you want to achieve. When all of the modifications designed for improving the xylitol production are in place (upregulation of the xylose transporter, upregulation of the xylose reductase (XR), knock out of the xylitol reductase (XR), and up regulation of the xylitol transporter), the best results for growth (r_2111) in combination with maximun xylitol production (r_2104) vary depending on what is prioritariced. The presence of glucose is directly related to an increase in growth, while, with all of this mutations in place, all of the xyolse intake seems to go towards xylitol production and exportation. This corresponds to previous assestments seen in the literature [12], where the possibility is stated of a bioconversion of up to 99%."
   ]
  },
  {
   "cell_type": "markdown",
   "metadata": {},
   "source": [
    "The growth increases to 0.154 when the growth media insted of having glucose have both xylose and glucose in equal proportions. Now it can also be seen how the  the Xylose transport, the XR and the XDH are active, however there is not Xylitol transport. "
   ]
  },
  {
   "cell_type": "code",
   "execution_count": null,
   "metadata": {},
   "outputs": [],
   "source": []
  }
 ],
 "metadata": {
  "kernelspec": {
   "display_name": "Python 3",
   "language": "python",
   "name": "python3"
  },
  "language_info": {
   "codemirror_mode": {
    "name": "ipython",
    "version": 3
   },
   "file_extension": ".py",
   "mimetype": "text/x-python",
   "name": "python",
   "nbconvert_exporter": "python",
   "pygments_lexer": "ipython3",
   "version": "3.8.5"
  }
 },
 "nbformat": 4,
 "nbformat_minor": 4
}
