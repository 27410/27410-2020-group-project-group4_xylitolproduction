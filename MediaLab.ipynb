{
 "cells": [
  {
   "cell_type": "markdown",
   "metadata": {},
   "source": [
    "1. Load the model Yeast8"
   ]
  },
  {
   "cell_type": "code",
   "execution_count": 10,
   "metadata": {},
   "outputs": [],
   "source": [
    "from cobra.io import read_sbml_model\n",
    "from cobra import Reaction, Metabolite\n",
    "\n",
    "model = read_sbml_model('yeastGEM.xml')"
   ]
  },
  {
   "cell_type": "markdown",
   "metadata": {},
   "source": [
    "2. Running model with Standard Medium"
   ]
  },
  {
   "cell_type": "code",
   "execution_count": 11,
   "metadata": {},
   "outputs": [],
   "source": [
    "# optimize for biomass growth with Standard Medium"
   ]
  },
  {
   "cell_type": "code",
   "execution_count": 12,
   "metadata": {},
   "outputs": [
    {
     "name": "stdout",
     "output_type": "stream",
     "text": [
      "0.08374778664999834\n"
     ]
    }
   ],
   "source": [
    "model.optimize()                               \n",
    "print(model.objective.value)"
   ]
  },
  {
   "cell_type": "code",
   "execution_count": 31,
   "metadata": {},
   "outputs": [],
   "source": [
    "#Create reaction dictionary"
   ]
  },
  {
   "cell_type": "code",
   "execution_count": 13,
   "metadata": {},
   "outputs": [],
   "source": [
    "xyodict = {1: \"r_2105\", # xylitol transport\n",
    "           2: \"r_1719\", # D-xylose transport\n",
    "           3: \"r_1093\", # xylose reductase\n",
    "           4: \"r_1092\"  # xylitol dehydrogenase\n",
    "          }"
   ]
  },
  {
   "cell_type": "code",
   "execution_count": 14,
   "metadata": {},
   "outputs": [],
   "source": [
    "#Setting different medium conditions. The elements in the different mediums can be displayed replacing the pertinent number in the bottom code"
   ]
  },
  {
   "cell_type": "code",
   "execution_count": 39,
   "metadata": {},
   "outputs": [
    {
     "name": "stdout",
     "output_type": "stream",
     "text": [
      "ammonium exchange r_1654: s_0420[e] <=>  1000.0\n",
      "D-glucose exchange r_1714: s_0565[e] <=>  0.8\n",
      "H+ exchange r_1832: s_0796[e] <=>  1000.0\n",
      "iron(2+) exchange r_1861: s_0925[e] <=>  1000.0\n",
      "oxygen exchange r_1992: s_1277[e] <=>  1000.0\n",
      "phosphate exchange r_2005: s_1324[e] <=>  1000.0\n",
      "potassium exchange r_2020: s_1374[e] <=>  1000.0\n",
      "sodium exchange r_2049: s_1438[e] <=>  1000.0\n",
      "sulphate exchange r_2060: s_1468[e] <=>  1000.0\n",
      "water exchange r_2100: s_0805[e] <=>  1000.0\n",
      "chloride exchange r_4593: s_4200[e] <=>  1000.0\n",
      "Cu2(+) exchange r_4594: s_4201[e] <=>  1000.0\n",
      "Mn(2+) exchange r_4595: s_4202[e] <=>  1000.0\n",
      "Zn(2+) exchange r_4596: s_4203[e] <=>  1000.0\n",
      "Mg(2+) exchange r_4597: s_4204[e] <=>  1000.0\n",
      "Ca(2+) exchange r_4600: s_4199[e] <=>  1000.0\n",
      "D-xylose exchange r_1718: s_0579[e] -->  1.2\n"
     ]
    }
   ],
   "source": [
    "medium_glu = model.medium  # 100% glucose as carbon source in the medium\n",
    "\n",
    "medium_xyl = model.medium  # 100% xylose as carbon source in the medium\n",
    "with model: \n",
    "    medium_xyl['r_1714'] = 0.0\n",
    "    medium_xyl['r_1718'] = 1.0\n",
    "\n",
    "medium_50 = medium_glu  # 50% glucose and 50% xylose as carbon sources in the medium\n",
    "with model: \n",
    "    medium_50['r_1714'] = 1.0\n",
    "    medium_50['r_1718'] = 1.0\n",
    "    \n",
    "medium_glu15 = medium_glu # 75% glucose and 25% xylose as carbon sources in the medium\n",
    "with model: \n",
    "    medium_glu15['r_1714'] = 1.5\n",
    "    medium_glu15['r_1718'] = 0.5\n",
    "    \n",
    "medium_xyl15 = medium_glu # 25% glucose and 75% xylose as carbon sources in the medium\n",
    "with model: \n",
    "    medium_xyl15['r_1714'] = 0.5\n",
    "    medium_xyl15['r_1718'] = 1.5\n",
    "    \n",
    "medium_glu12 = medium_glu # 60% glucose and 40% xylose as carbon sources in the medium\n",
    "with model: \n",
    "    medium_glu12['r_1714'] = 1.2\n",
    "    medium_glu12['r_1718'] = 0.8\n",
    "\n",
    "medium_xyl12 = medium_glu # 40% glucose and 60% xylose as carbon sources in the medium\n",
    "with model: \n",
    "    medium_xyl12['r_1714'] = 0.8\n",
    "    medium_xyl12['r_1718'] = 1.2\n",
    "\n",
    "for element in medium_glu.keys():\n",
    "    print(model.reactions.get_by_id(element).name, model.reactions.get_by_id(element), medium_glu[element])"
   ]
  },
  {
   "cell_type": "markdown",
   "metadata": {},
   "source": [
    "3. Run the model with the selected medium. In this model there are already included a combination of the different mutations that have been proven to work individually with promise to improve xylitol production. This include upregulation of a xylose transporter form the medium to inside of the cell, an upregulation of the xylose reductase, for a higher xylitol conversion, a knock out of the gene XDH in the PPP pathway to prevent xylitol to keep going down the pathway, and an upregulation of the xylitol transporter. In the code below, we can combine these modifications with mediums with different composition, using alternative proportions of the two selected carbon sources: glucose and xylose. The idea behind this experiment is to determine the best conditions for xylitol production while still having cell growth."
   ]
  },
  {
   "cell_type": "code",
   "execution_count": 40,
   "metadata": {},
   "outputs": [
    {
     "name": "stdout",
     "output_type": "stream",
     "text": [
      "Objective\n",
      "=========\n",
      "1.0 r_2104 = 1.1999999999999993\n",
      "\n",
      "Uptake\n",
      "------\n",
      "Metabolite Reaction   Flux  C-Number  C-Flux\n",
      " s_0565[e]   r_1714 0.2545         6  20.28%\n",
      " s_0579[e]   r_1718    1.2         5  79.72%\n",
      " s_1277[e]   r_1992 0.1545         0   0.00%\n",
      " s_0805[e]   r_2100 0.2911         0   0.00%\n",
      "\n",
      "Secretion\n",
      "---------\n",
      "Metabolite Reaction    Flux  C-Number  C-Flux\n",
      " s_0458[e]   r_1672    -0.6         1   7.97%\n",
      " s_0796[e]   r_1832 -0.3089         0   0.00%\n",
      " s_1400[e]   r_2033 -0.3089         3  12.31%\n",
      " s_1567[e]   r_2104    -1.2         5  79.72%\n",
      "\n",
      "xylitol transport -1.1999999999999993\n",
      "D-xylose transport 1.2\n",
      "xylose reductase 1.2\n",
      "xylitol dehydrogenase (D-xyulose-forming) 0.0\n",
      "growth 0.0\n",
      "D-glucose exchange -0.2544571932921447\n",
      "glucose transport 0.2544571932921447\n"
     ]
    }
   ],
   "source": [
    "with model:\n",
    "    # model.medium = medium_glu  # 100% glucose as carbon source in the medium\n",
    "    # model.medium = medium_xyl # 100% xylose as carbon source in the medium\n",
    "    # model.medium = medium_glu15 # 75% glucose and 25% xylose as carbon sources in the medium\n",
    "    # model.medium = medium_50 # 50% glucose and 50% xylose as carbon sources in the medium\n",
    "    model.medium = medium_xyl15 # 25% glucose and 75% xylose as carbon sources in the medium\n",
    "    # model.medium = medium_glu12 # 60% glucose and 40% xylose as carbon sources in the medium\n",
    "    # model.medium = medium_xyl12 # 40% glucose and 60% xylose as carbon sources in the medium\n",
    "    ## regulations\n",
    "    model.reactions.r_1719.bounds = (0,10) # regulation for xylose transporter\n",
    "    model.reactions.r_1093.bounds = (0,10) # regulation for xylose reductase\n",
    "    model.genes.YLR070C.knock_out() # knockout for xylitol dehydrogenase\n",
    "    model.reactions.r_2104.bounds = (0,2) # regulation for xylitol transporter\n",
    "\n",
    "    \n",
    "    ## solve model\n",
    "    model.objective = model.reactions.r_2104 # objective is maximum xylitol production\n",
    "    solution3 = model.optimize()\n",
    "    print(model.summary())\n",
    "    for key in xyodict.keys():\n",
    "        print(model.reactions.get_by_id(xyodict[key]).name, model.reactions.get_by_id(xyodict[key]).flux)\n",
    "    print(model.reactions.r_2111.name, model.reactions.r_2111.flux)\n",
    "    print(model.reactions.r_1714.name, model.reactions.r_1714.flux)\n",
    "    print(model.reactions.r_1166.name, model.reactions.r_1166.flux)"
   ]
  },
  {
   "cell_type": "markdown",
   "metadata": {},
   "source": [
    "We can see how when the model is run with the standard medium medium_glu (no xylose is present) the Xylitol transporter, Xylose transporter, Xylose Reductase (XR) and Xylitol Dehydrogenase (XDH) have flux equal to 0. That means that with out Xylose in the media all the pathway is not active. We can also stablish that when the medium only has xylose, reaction r_2111 associated to cell growth is 0, suggesting that in this medium the cells even though they are able to produce xylitol, they are not able to multiply with the selected mutations."
   ]
  },
  {
   "cell_type": "markdown",
   "metadata": {},
   "source": [
    "The growth increases to 0.154 when the growth media insted of having glucose have both xylose and glucose in equal proportions. Now it can also be seen how the  the Xylose transport, the XR and the XDH are active, however there is not Xylitol transport. "
   ]
  },
  {
   "cell_type": "code",
   "execution_count": null,
   "metadata": {},
   "outputs": [],
   "source": []
  }
 ],
 "metadata": {
  "kernelspec": {
   "display_name": "Python 3",
   "language": "python",
   "name": "python3"
  },
  "language_info": {
   "codemirror_mode": {
    "name": "ipython",
    "version": 3
   },
   "file_extension": ".py",
   "mimetype": "text/x-python",
   "name": "python",
   "nbconvert_exporter": "python",
   "pygments_lexer": "ipython3",
   "version": "3.8.5"
  }
 },
 "nbformat": 4,
 "nbformat_minor": 4
}
