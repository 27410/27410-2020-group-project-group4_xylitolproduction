{
 "cells": [
  {
   "cell_type": "code",
   "execution_count": 7,
   "metadata": {},
   "outputs": [
    {
     "name": "stdout",
     "output_type": "stream",
     "text": [
      "0.08374778664999834\n"
     ]
    }
   ],
   "source": [
    "from cobra.io import read_sbml_model\n",
    "from cobra import Reaction, Metabolite\n",
    "\n",
    "model = read_sbml_model('yeastGEM.xml')\n",
    "model.optimize()\n",
    "print(model.objective.value)"
   ]
  },
  {
   "cell_type": "code",
   "execution_count": null,
   "metadata": {},
   "outputs": [],
   "source": [
    "model"
   ]
  },
  {
   "cell_type": "code",
   "execution_count": 16,
   "metadata": {},
   "outputs": [],
   "source": [
    "#Mutation of the gene corresponding to XDH (YLR070C)"
   ]
  },
  {
   "cell_type": "code",
   "execution_count": null,
   "metadata": {},
   "outputs": [],
   "source": [
    "#I DONT KNOW HOW TO CREATE A PERMANENT KNOCKOUT (with out the \"with model\") !!!!!!!!!! :("
   ]
  },
  {
   "cell_type": "code",
   "execution_count": 10,
   "metadata": {},
   "outputs": [
    {
     "data": {
      "text/plain": [
       "0.08374778664999834"
      ]
     },
     "execution_count": 10,
     "metadata": {},
     "output_type": "execute_result"
    }
   ],
   "source": [
    "\n",
    "  \n",
    "model.genes.YLR070C.knock_out()\n",
    "model.slim_optimize()"
   ]
  },
  {
   "cell_type": "code",
   "execution_count": 4,
   "metadata": {},
   "outputs": [],
   "source": [
    "#mutantXDH="
   ]
  },
  {
   "cell_type": "code",
   "execution_count": 5,
   "metadata": {},
   "outputs": [
    {
     "name": "stdout",
     "output_type": "stream",
     "text": [
      "0.06735829830930186\n"
     ]
    }
   ],
   "source": [
    "medium_xyl = model.medium\n",
    "medium_xyl['r_1714']=0\n",
    "medium_xyl['r_1718']=1.0\n",
    "model.medium=medium_xyl\n",
    "solution=model.optimize()\n",
    "print(solution.fluxes['r_2111'])"
   ]
  },
  {
   "cell_type": "code",
   "execution_count": null,
   "metadata": {},
   "outputs": [],
   "source": [
    "#Calculatin of the theoretical maximum yield of xylitol by reaction of XR"
   ]
  },
  {
   "cell_type": "code",
   "execution_count": 6,
   "metadata": {},
   "outputs": [
    {
     "name": "stdout",
     "output_type": "stream",
     "text": [
      "Max. xylitol production [mmol gDW^-1 h^-1]: 1.0\n",
      "Theoretical max. yield [mmol-xylitol / mmol-xylose]: 1.0\n"
     ]
    }
   ],
   "source": [
    "medium = model.medium\n",
    "with model:\n",
    "    medium['r_1714'] = 0\n",
    "    medium['r_1718'] = 1.0\n",
    "    model.medium = medium\n",
    "    model.objective = model.reactions.r_1093\n",
    "    xylitol_production = model.optimize().objective_value\n",
    "\n",
    "    print(\"Max. xylitol production [mmol gDW^-1 h^-1]:\", xylitol_production)\n",
    "    print(\"Theoretical max. yield [mmol-xylitol / mmol-xylose]:\", xylitol_production / (-1*model.reactions.r_1718.flux))"
   ]
  },
  {
   "cell_type": "code",
   "execution_count": 7,
   "metadata": {},
   "outputs": [],
   "source": [
    "#Calculatin of the theoretical maximum yield of xylulose by reaction of XDH (gene knocked out)\n"
   ]
  },
  {
   "cell_type": "code",
   "execution_count": 8,
   "metadata": {},
   "outputs": [
    {
     "name": "stdout",
     "output_type": "stream",
     "text": [
      "Max. xylitol production [mmol gDW^-1 h^-1]: 1.0\n",
      "Theoretical max. yield [mmol-xylitol / mmol-xylose]: 1.0\n"
     ]
    }
   ],
   "source": [
    "medium = model.medium\n",
    "with model:\n",
    "    medium['r_1714'] = 0\n",
    "    medium['r_1718'] = 1.0\n",
    "    model.medium = medium\n",
    "    model.objective = model.reactions.r_1092\n",
    "    xylitol_production = model.optimize().objective_value\n",
    "\n",
    "    print(\"Max. xylitol production [mmol gDW^-1 h^-1]:\", xylitol_production)\n",
    "    print(\"Theoretical max. yield [mmol-xylitol / mmol-xylose]:\", xylitol_production / (-1*model.reactions.r_1718.flux))"
   ]
  },
  {
   "cell_type": "code",
   "execution_count": null,
   "metadata": {},
   "outputs": [],
   "source": []
  }
 ],
 "metadata": {
  "kernelspec": {
   "display_name": "Python 3",
   "language": "python",
   "name": "python3"
  },
  "language_info": {
   "codemirror_mode": {
    "name": "ipython",
    "version": 3
   },
   "file_extension": ".py",
   "mimetype": "text/x-python",
   "name": "python",
   "nbconvert_exporter": "python",
   "pygments_lexer": "ipython3",
   "version": "3.8.5"
  }
 },
 "nbformat": 4,
 "nbformat_minor": 4
}
