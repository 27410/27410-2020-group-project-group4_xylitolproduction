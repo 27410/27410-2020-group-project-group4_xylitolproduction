{
 "cells": [
  {
   "cell_type": "markdown",
   "metadata": {},
   "source": [
    "1. Load Model"
   ]
  },
  {
   "cell_type": "code",
   "execution_count": 1,
   "metadata": {},
   "outputs": [
    {
     "name": "stdout",
     "output_type": "stream",
     "text": [
      "0.08374778664999834\n"
     ]
    }
   ],
   "source": [
    "from cobra.io import read_sbml_model\n",
    "from cobra import Reaction, Metabolite\n",
    "\n",
    "model = read_sbml_model('yeastGEM.xml')\n",
    "model.optimize()                               # optimize for biomass growth with standard medium\n",
    "print(model.objective.value)"
   ]
  },
  {
   "cell_type": "markdown",
   "metadata": {},
   "source": [
    "2. Create reaction dictionary"
   ]
  },
  {
   "cell_type": "code",
   "execution_count": 2,
   "metadata": {},
   "outputs": [],
   "source": [
    "xyodict = {1: \"r_2105\", # xylitol transport\n",
    "           2: \"r_1719\", # D-xylose transport\n",
    "           3: \"r_1093\", # xylose reductase\n",
    "           4: \"r_1092\"  # xylitol dehydrogenase\n",
    "          }"
   ]
  },
  {
   "cell_type": "markdown",
   "metadata": {},
   "source": [
    "3. Run model with standard medium"
   ]
  },
  {
   "cell_type": "code",
   "execution_count": 3,
   "metadata": {},
   "outputs": [
    {
     "name": "stdout",
     "output_type": "stream",
     "text": [
      "Objective\n",
      "=========\n",
      "1.0 r_2111 = 0.08374778664999834\n",
      "\n",
      "Uptake\n",
      "------\n",
      "Metabolite Reaction      Flux  C-Number   C-Flux\n",
      " s_0420[e]   r_1654    0.5988         0    0.00%\n",
      " s_0565[e]   r_1714         1         6  100.00%\n",
      " s_0796[e]   r_1832   0.04236         0    0.00%\n",
      " s_0925[e]   r_1861 2.546E-06         0    0.00%\n",
      " s_1277[e]   r_1992      2.25         0    0.00%\n",
      " s_1324[e]   r_2005    0.5449         0    0.00%\n",
      " s_1374[e]   r_2020  0.000304         0    0.00%\n",
      " s_1438[e]   r_2049 0.0003325         0    0.00%\n",
      " s_1468[e]   r_2060  0.007203         0    0.00%\n",
      " s_4200[e]   r_4593  0.000108         0    0.00%\n",
      " s_4201[e]   r_4594 5.519E-05         0    0.00%\n",
      " s_4202[e]   r_4595 0.0002286         0    0.00%\n",
      " s_4203[e]   r_4596 6.264E-05         0    0.00%\n",
      " s_4204[e]   r_4597 0.0001041         0    0.00%\n",
      " s_4199[e]   r_4600 1.817E-05         0    0.00%\n",
      "\n",
      "Secretion\n",
      "---------\n",
      "Metabolite Reaction      Flux  C-Number   C-Flux\n",
      " s_0458[e]   r_1672     -2.39         1  100.00%\n",
      " s_0776[e]   r_1814 -5.41E-06         2    0.00%\n",
      " s_0805[e]   r_2100    -4.302         0    0.00%\n",
      " s_0450[c]   r_2111  -0.08375         0    0.00%\n",
      " s_4157[e]   r_4527   -0.2515         0    0.00%\n",
      "\n",
      "xylitol transport 0.0\n",
      "D-xylose transport 0.0\n",
      "xylose reductase 0.0\n",
      "xylitol dehydrogenase (D-xyulose-forming) 0.0\n"
     ]
    }
   ],
   "source": [
    "solution = model.optimize()\n",
    "print(model.summary())\n",
    "for key in xyodict.keys():\n",
    "    print(model.reactions.get_by_id(xyodict[key]).name, model.reactions.get_by_id(xyodict[key]).flux)"
   ]
  },
  {
   "cell_type": "markdown",
   "metadata": {},
   "source": [
    "4. Check and change model medium"
   ]
  },
  {
   "cell_type": "code",
   "execution_count": 13,
   "metadata": {},
   "outputs": [
    {
     "name": "stdout",
     "output_type": "stream",
     "text": [
      "ammonium exchange r_1654: s_0420[e] <=>  1000.0\n",
      "D-glucose exchange r_1714: s_0565[e] <=>  1.0\n",
      "H+ exchange r_1832: s_0796[e] <=>  1000.0\n",
      "iron(2+) exchange r_1861: s_0925[e] <=>  1000.0\n",
      "oxygen exchange r_1992: s_1277[e] <=>  1000.0\n",
      "phosphate exchange r_2005: s_1324[e] <=>  1000.0\n",
      "potassium exchange r_2020: s_1374[e] <=>  1000.0\n",
      "sodium exchange r_2049: s_1438[e] <=>  1000.0\n",
      "sulphate exchange r_2060: s_1468[e] <=>  1000.0\n",
      "water exchange r_2100: s_0805[e] <=>  1000.0\n",
      "chloride exchange r_4593: s_4200[e] <=>  1000.0\n",
      "Cu2(+) exchange r_4594: s_4201[e] <=>  1000.0\n",
      "Mn(2+) exchange r_4595: s_4202[e] <=>  1000.0\n",
      "Zn(2+) exchange r_4596: s_4203[e] <=>  1000.0\n",
      "Mg(2+) exchange r_4597: s_4204[e] <=>  1000.0\n",
      "Ca(2+) exchange r_4600: s_4199[e] <=>  1000.0\n"
     ]
    }
   ],
   "source": [
    "medium_glu = model.medium\n",
    "for element in medium_glu.keys():\n",
    "    print(model.reactions.get_by_id(element).name, model.reactions.get_by_id(element), medium_glu[element])"
   ]
  },
  {
   "cell_type": "code",
   "execution_count": 14,
   "metadata": {},
   "outputs": [
    {
     "name": "stdout",
     "output_type": "stream",
     "text": [
      "ammonium exchange r_1654: s_0420[e] <=>  1000.0\n",
      "H+ exchange r_1832: s_0796[e] <=>  1000.0\n",
      "iron(2+) exchange r_1861: s_0925[e] <=>  1000.0\n",
      "oxygen exchange r_1992: s_1277[e] <=>  1000.0\n",
      "phosphate exchange r_2005: s_1324[e] <=>  1000.0\n",
      "potassium exchange r_2020: s_1374[e] <=>  1000.0\n",
      "sodium exchange r_2049: s_1438[e] <=>  1000.0\n",
      "sulphate exchange r_2060: s_1468[e] <=>  1000.0\n",
      "water exchange r_2100: s_0805[e] <=>  1000.0\n",
      "chloride exchange r_4593: s_4200[e] <=>  1000.0\n",
      "Cu2(+) exchange r_4594: s_4201[e] <=>  1000.0\n",
      "Mn(2+) exchange r_4595: s_4202[e] <=>  1000.0\n",
      "Zn(2+) exchange r_4596: s_4203[e] <=>  1000.0\n",
      "Mg(2+) exchange r_4597: s_4204[e] <=>  1000.0\n",
      "Ca(2+) exchange r_4600: s_4199[e] <=>  1000.0\n",
      "D-xylose exchange r_1718: s_0579[e] -->  10.0\n",
      "D-glucose exchange r_1714: s_0565[e] <=>  1.0\n",
      "\n",
      "ammonium exchange r_1654: s_0420[e] <=>  1000.0\n",
      "H+ exchange r_1832: s_0796[e] <=>  1000.0\n",
      "iron(2+) exchange r_1861: s_0925[e] <=>  1000.0\n",
      "oxygen exchange r_1992: s_1277[e] <=>  1000.0\n",
      "phosphate exchange r_2005: s_1324[e] <=>  1000.0\n",
      "potassium exchange r_2020: s_1374[e] <=>  1000.0\n",
      "sodium exchange r_2049: s_1438[e] <=>  1000.0\n",
      "sulphate exchange r_2060: s_1468[e] <=>  1000.0\n",
      "water exchange r_2100: s_0805[e] <=>  1000.0\n",
      "chloride exchange r_4593: s_4200[e] <=>  1000.0\n",
      "Cu2(+) exchange r_4594: s_4201[e] <=>  1000.0\n",
      "Mn(2+) exchange r_4595: s_4202[e] <=>  1000.0\n",
      "Zn(2+) exchange r_4596: s_4203[e] <=>  1000.0\n",
      "Mg(2+) exchange r_4597: s_4204[e] <=>  1000.0\n",
      "Ca(2+) exchange r_4600: s_4199[e] <=>  1000.0\n",
      "D-xylose exchange r_1718: s_0579[e] -->  10.0\n",
      "D-glucose exchange r_1714: s_0565[e] <=>  1.0\n"
     ]
    }
   ],
   "source": [
    "medium_xyl = medium_glu\n",
    "medium_xyl_glu = medium_glu\n",
    "medium_xyl10_glu = medium_glu\n",
    "\n",
    "del medium_xyl['r_1714']\n",
    "medium_xyl['r_1718'] = 1.0\n",
    "\n",
    "medium_xyl_glu['r_1718'] = 1.0\n",
    "medium_xyl_glu['r_1714'] = 1.0\n",
    "\n",
    "medium_xyl10_glu['r_1718'] = 10.0\n",
    "medium_xyl10_glu['r_1714'] = 1.0\n",
    "\n",
    "for element in medium_xyl.keys():\n",
    "    print(model.reactions.get_by_id(element).name, model.reactions.get_by_id(element), medium_xyl[element])\n",
    "    \n",
    "print()\n",
    "for element in medium_xyl_glu.keys():\n",
    "    print(model.reactions.get_by_id(element).name, model.reactions.get_by_id(element), medium_xyl_glu[element])\n"
   ]
  },
  {
   "cell_type": "code",
   "execution_count": 15,
   "metadata": {},
   "outputs": [
    {
     "name": "stdout",
     "output_type": "stream",
     "text": [
      "Objective\n",
      "=========\n",
      "1.0 r_2111 = 0.7865081698378024\n",
      "\n",
      "Uptake\n",
      "------\n",
      "Metabolite Reaction      Flux  C-Number  C-Flux\n",
      " s_0420[e]   r_1654     5.623         0   0.00%\n",
      " s_0565[e]   r_1714         1         6  10.71%\n",
      " s_0579[e]   r_1718        10         5  89.29%\n",
      " s_0796[e]   r_1832    0.3978         0   0.00%\n",
      " s_0925[e]   r_1861  2.47E-05         0   0.00%\n",
      " s_1277[e]   r_1992     20.78         0   0.00%\n",
      " s_1324[e]   r_2005     5.118         0   0.00%\n",
      " s_1374[e]   r_2020  0.002855         0   0.00%\n",
      " s_1438[e]   r_2049  0.003122         0   0.00%\n",
      " s_1468[e]   r_2060   0.06765         0   0.00%\n",
      " s_4200[e]   r_4593  0.001015         0   0.00%\n",
      " s_4201[e]   r_4594 0.0005183         0   0.00%\n",
      " s_4202[e]   r_4595  0.002147         0   0.00%\n",
      " s_4203[e]   r_4596 0.0005883         0   0.00%\n",
      " s_4204[e]   r_4597 0.0009773         0   0.00%\n",
      " s_4199[e]   r_4600 0.0001707         0   0.00%\n",
      "\n",
      "Secretion\n",
      "---------\n",
      "Metabolite Reaction       Flux  C-Number   C-Flux\n",
      " s_0458[e]   r_1672      -22.1         1  100.00%\n",
      " s_0776[e]   r_1814 -5.081E-05         2    0.00%\n",
      " s_0805[e]   r_2100     -40.05         0    0.00%\n",
      " s_0450[c]   r_2111    -0.7865         0    0.00%\n",
      " s_4157[e]   r_4527     -2.362         0    0.00%\n",
      "\n",
      "xylitol transport 0.0\n",
      "D-xylose transport 10.0\n",
      "xylose reductase 10.0\n",
      "xylitol dehydrogenase (D-xyulose-forming) 10.0\n"
     ]
    }
   ],
   "source": [
    "with model:\n",
    "    model.medium = medium_xyl\n",
    "    solution2 = model.optimize()\n",
    "    print(model.summary())\n",
    "    for key in xyodict.keys():\n",
    "        print(model.reactions.get_by_id(xyodict[key]).name, model.reactions.get_by_id(xyodict[key]).flux)"
   ]
  },
  {
   "cell_type": "markdown",
   "metadata": {},
   "source": [
    "5. Downregulation of xylitol dehydrogenase"
   ]
  },
  {
   "cell_type": "code",
   "execution_count": 34,
   "metadata": {},
   "outputs": [
    {
     "name": "stdout",
     "output_type": "stream",
     "text": [
      "Objective\n",
      "=========\n",
      "1.0 r_2111 = 0.04763716235389214\n",
      "\n",
      "Uptake\n",
      "------\n",
      "Metabolite Reaction      Flux  C-Number  C-Flux\n",
      " s_0420[e]   r_1654    0.3406         0   0.00%\n",
      " s_0565[e]   r_1714         1         6  19.35%\n",
      " s_0579[e]   r_1718         5         5  80.65%\n",
      " s_0796[e]   r_1832   0.02409         0   0.00%\n",
      " s_0925[e]   r_1861 1.448E-06         0   0.00%\n",
      " s_1277[e]   r_1992     1.367         0   0.00%\n",
      " s_1324[e]   r_2005      0.31         0   0.00%\n",
      " s_1374[e]   r_2020 0.0001729         0   0.00%\n",
      " s_1438[e]   r_2049 0.0001891         0   0.00%\n",
      " s_1468[e]   r_2060  0.004097         0   0.00%\n",
      " s_4200[e]   r_4593 6.145E-05         0   0.00%\n",
      " s_4201[e]   r_4594 3.139E-05         0   0.00%\n",
      " s_4202[e]   r_4595   0.00013         0   0.00%\n",
      " s_4203[e]   r_4596 3.563E-05         0   0.00%\n",
      " s_4204[e]   r_4597 5.919E-05         0   0.00%\n",
      " s_4199[e]   r_4600 1.034E-05         0   0.00%\n",
      "\n",
      "Secretion\n",
      "---------\n",
      "Metabolite Reaction      Flux  C-Number  C-Flux\n",
      " s_0458[e]   r_1672    -3.947         1  13.63%\n",
      " s_0776[e]   r_1814 -3.02E-06         2   0.00%\n",
      " s_0805[e]   r_2100  -0.03408         0   0.00%\n",
      " s_1567[e]   r_2104        -5         5  86.37%\n",
      " s_0450[c]   r_2111  -0.04764         0   0.00%\n",
      " s_4157[e]   r_4527   -0.1431         0   0.00%\n",
      "\n",
      "xylitol transport -5.0\n",
      "D-xylose transport 5.0\n",
      "xylose reductase 5.0\n",
      "xylitol dehydrogenase (D-xyulose-forming) 0.0\n",
      "growth 0.04763716235389214\n",
      "D-glucose exchange -1.0\n",
      "glucose transport 1.0\n"
     ]
    }
   ],
   "source": [
    "with model:\n",
    "    # del medium_xyl['r_1714']\n",
    "    # model.medium = medium_xyl # glucose and xylose present in the medium\n",
    "    # model.medium = medium_xyl_glu # glucose and xylose present in the medium\n",
    "    model.medium = medium_xyl10_glu # glucose and xylose present in the medium\n",
    "    \n",
    "    ## regulations\n",
    "    model.reactions.r_1719.bounds = (5,10) # regulation for xylose transporter\n",
    "    model.reactions.r_1093.bounds = (0,10) # regulation for xylose reductase\n",
    "    model.reactions.r_1092.bounds = (0,0) # regulation for xylitol dehydrogenase\n",
    "    model.reactions.r_2104.bounds = (5,5) # regulation for xylitol transporter\n",
    "\n",
    "    \n",
    "    ## solve model\n",
    "    # model.objective = model.reactions.r_2104 # objective is maximum xylitol production\n",
    "    solution3 = model.optimize()\n",
    "    print(model.summary())\n",
    "    for key in xyodict.keys():\n",
    "        print(model.reactions.get_by_id(xyodict[key]).name, model.reactions.get_by_id(xyodict[key]).flux)\n",
    "    print(model.reactions.r_2111.name, model.reactions.r_2111.flux)\n",
    "    print(model.reactions.r_1714.name, model.reactions.r_1714.flux)\n",
    "    print(model.reactions.r_1166.name, model.reactions.r_1166.flux)"
   ]
  },
  {
   "cell_type": "markdown",
   "metadata": {},
   "source": [
    "Conclusions:\n",
    "    - Overexpression of xylose transporter only works in case the xylose reductase and and xylitol transporter are overexpressed\n",
    "    - Downregulation of xylitol dehydrogenase has higher effect\n",
    "    - combination of both (decoupling of growth and production) has highest effect\n",
    "    - different levels reduce the biomass yield\n",
    "    - growth and respectively production are better if glucose is present, because otherwise xylitol dehydrogenase cannot be knocked out"
   ]
  },
  {
   "cell_type": "code",
   "execution_count": null,
   "metadata": {},
   "outputs": [],
   "source": []
  }
 ],
 "metadata": {
  "kernelspec": {
   "display_name": "Python 3",
   "language": "python",
   "name": "python3"
  },
  "language_info": {
   "codemirror_mode": {
    "name": "ipython",
    "version": 3
   },
   "file_extension": ".py",
   "mimetype": "text/x-python",
   "name": "python",
   "nbconvert_exporter": "python",
   "pygments_lexer": "ipython3",
   "version": "3.8.5"
  }
 },
 "nbformat": 4,
 "nbformat_minor": 4
}
