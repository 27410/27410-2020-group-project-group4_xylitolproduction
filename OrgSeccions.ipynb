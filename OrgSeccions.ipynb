{
 "cells": [
  {
   "cell_type": "markdown",
   "metadata": {},
   "source": [
    "1. Load the model Yeast8"
   ]
  },
  {
   "cell_type": "code",
   "execution_count": 28,
   "metadata": {},
   "outputs": [],
   "source": [
    "from cobra.io import read_sbml_model\n",
    "from cobra import Reaction, Metabolite\n",
    "\n",
    "model = read_sbml_model('yeastGEM.xml')"
   ]
  },
  {
   "cell_type": "markdown",
   "metadata": {},
   "source": [
    "2. Running model with standard Meidum "
   ]
  },
  {
   "cell_type": "code",
   "execution_count": 29,
   "metadata": {},
   "outputs": [],
   "source": [
    "# optimize for biomass growth with standard medium"
   ]
  },
  {
   "cell_type": "code",
   "execution_count": 30,
   "metadata": {},
   "outputs": [
    {
     "name": "stdout",
     "output_type": "stream",
     "text": [
      "0.08374778664999834\n"
     ]
    }
   ],
   "source": [
    "model.optimize()                               \n",
    "print(model.objective.value)"
   ]
  },
  {
   "cell_type": "code",
   "execution_count": 31,
   "metadata": {},
   "outputs": [],
   "source": [
    "#Create reaction dictionary"
   ]
  },
  {
   "cell_type": "code",
   "execution_count": 32,
   "metadata": {},
   "outputs": [],
   "source": [
    "xyodict = {1: \"r_2105\", # xylitol transport\n",
    "           2: \"r_1719\", # D-xylose transport\n",
    "           3: \"r_1093\", # xylose reductase\n",
    "           4: \"r_1092\"  # xylitol dehydrogenase\n",
    "          }"
   ]
  },
  {
   "cell_type": "code",
   "execution_count": 33,
   "metadata": {},
   "outputs": [],
   "source": [
    "#Check the standard medium. (medium that has as carbon source Glucose)\n"
   ]
  },
  {
   "cell_type": "code",
   "execution_count": 34,
   "metadata": {},
   "outputs": [
    {
     "name": "stdout",
     "output_type": "stream",
     "text": [
      "ammonium exchange r_1654: s_0420[e] <=>  1000.0\n",
      "D-glucose exchange r_1714: s_0565[e] <=>  1.0\n",
      "H+ exchange r_1832: s_0796[e] <=>  1000.0\n",
      "iron(2+) exchange r_1861: s_0925[e] <=>  1000.0\n",
      "oxygen exchange r_1992: s_1277[e] <=>  1000.0\n",
      "phosphate exchange r_2005: s_1324[e] <=>  1000.0\n",
      "potassium exchange r_2020: s_1374[e] <=>  1000.0\n",
      "sodium exchange r_2049: s_1438[e] <=>  1000.0\n",
      "sulphate exchange r_2060: s_1468[e] <=>  1000.0\n",
      "water exchange r_2100: s_0805[e] <=>  1000.0\n",
      "chloride exchange r_4593: s_4200[e] <=>  1000.0\n",
      "Cu2(+) exchange r_4594: s_4201[e] <=>  1000.0\n",
      "Mn(2+) exchange r_4595: s_4202[e] <=>  1000.0\n",
      "Zn(2+) exchange r_4596: s_4203[e] <=>  1000.0\n",
      "Mg(2+) exchange r_4597: s_4204[e] <=>  1000.0\n",
      "Ca(2+) exchange r_4600: s_4199[e] <=>  1000.0\n"
     ]
    }
   ],
   "source": [
    "medium_glu = model.medium\n",
    "for element in medium_glu.keys():\n",
    "    print(model.reactions.get_by_id(element).name, model.reactions.get_by_id(element), medium_glu[element])"
   ]
  },
  {
   "cell_type": "code",
   "execution_count": 35,
   "metadata": {},
   "outputs": [],
   "source": [
    "#Run the model with the standard medium "
   ]
  },
  {
   "cell_type": "code",
   "execution_count": 36,
   "metadata": {},
   "outputs": [
    {
     "name": "stdout",
     "output_type": "stream",
     "text": [
      "Objective\n",
      "=========\n",
      "1.0 r_2111 = 0.08374778664999834\n",
      "\n",
      "Uptake\n",
      "------\n",
      "Metabolite Reaction      Flux  C-Number   C-Flux\n",
      " s_0420[e]   r_1654    0.5988         0    0.00%\n",
      " s_0565[e]   r_1714         1         6  100.00%\n",
      " s_0796[e]   r_1832   0.04236         0    0.00%\n",
      " s_0925[e]   r_1861 2.546E-06         0    0.00%\n",
      " s_1277[e]   r_1992      2.25         0    0.00%\n",
      " s_1324[e]   r_2005    0.5449         0    0.00%\n",
      " s_1374[e]   r_2020  0.000304         0    0.00%\n",
      " s_1438[e]   r_2049 0.0003325         0    0.00%\n",
      " s_1468[e]   r_2060  0.007203         0    0.00%\n",
      " s_4200[e]   r_4593  0.000108         0    0.00%\n",
      " s_4201[e]   r_4594 5.519E-05         0    0.00%\n",
      " s_4202[e]   r_4595 0.0002286         0    0.00%\n",
      " s_4203[e]   r_4596 6.264E-05         0    0.00%\n",
      " s_4204[e]   r_4597 0.0001041         0    0.00%\n",
      " s_4199[e]   r_4600 1.817E-05         0    0.00%\n",
      "\n",
      "Secretion\n",
      "---------\n",
      "Metabolite Reaction      Flux  C-Number   C-Flux\n",
      " s_0458[e]   r_1672     -2.39         1  100.00%\n",
      " s_0776[e]   r_1814 -5.41E-06         2    0.00%\n",
      " s_0805[e]   r_2100    -4.302         0    0.00%\n",
      " s_0450[c]   r_2111  -0.08375         0    0.00%\n",
      " s_4157[e]   r_4527   -0.2515         0    0.00%\n",
      "\n",
      "xylitol transport 0.0\n",
      "D-xylose transport 0.0\n",
      "xylose reductase 0.0\n",
      "xylitol dehydrogenase (D-xyulose-forming) 0.0\n"
     ]
    }
   ],
   "source": [
    "solution = model.optimize()\n",
    "print(model.summary())\n",
    "for key in xyodict.keys():\n",
    "    print(model.reactions.get_by_id(xyodict[key]).name, model.reactions.get_by_id(xyodict[key]).flux)"
   ]
  },
  {
   "cell_type": "markdown",
   "metadata": {},
   "source": [
    "We can see how when the model is run with the standard medium (no xylose is present) the Xylitol transporter, Xylose transporter, Xylose Reductase (XR) and Xylitol Dehydrogenase (XDH) have flux equal to 0.  That means that with out Xylose in the media all the pathway is not active."
   ]
  },
  {
   "cell_type": "markdown",
   "metadata": {},
   "source": [
    "3. Medium Change, trying different proportions of Glucose and Xylose"
   ]
  },
  {
   "cell_type": "markdown",
   "metadata": {},
   "source": [
    "3.1. Medium without glucose and with Xylose"
   ]
  },
  {
   "cell_type": "code",
   "execution_count": 37,
   "metadata": {},
   "outputs": [
    {
     "name": "stdout",
     "output_type": "stream",
     "text": [
      "ammonium exchange r_1654: s_0420[e] <=>  1000.0\n",
      "H+ exchange r_1832: s_0796[e] <=>  1000.0\n",
      "iron(2+) exchange r_1861: s_0925[e] <=>  1000.0\n",
      "oxygen exchange r_1992: s_1277[e] <=>  1000.0\n",
      "phosphate exchange r_2005: s_1324[e] <=>  1000.0\n",
      "potassium exchange r_2020: s_1374[e] <=>  1000.0\n",
      "sodium exchange r_2049: s_1438[e] <=>  1000.0\n",
      "sulphate exchange r_2060: s_1468[e] <=>  1000.0\n",
      "water exchange r_2100: s_0805[e] <=>  1000.0\n",
      "chloride exchange r_4593: s_4200[e] <=>  1000.0\n",
      "Cu2(+) exchange r_4594: s_4201[e] <=>  1000.0\n",
      "Mn(2+) exchange r_4595: s_4202[e] <=>  1000.0\n",
      "Zn(2+) exchange r_4596: s_4203[e] <=>  1000.0\n",
      "Mg(2+) exchange r_4597: s_4204[e] <=>  1000.0\n",
      "Ca(2+) exchange r_4600: s_4199[e] <=>  1000.0\n",
      "D-xylose exchange r_1718: s_0579[e] -->  1.0\n"
     ]
    }
   ],
   "source": [
    "\n",
    "medium_xyl = medium_glu\n",
    "with model: \n",
    "    del medium_xyl['r_1714']\n",
    "    medium_xyl['r_1718'] = 1.0\n",
    "\n",
    "for element in medium_xyl.keys():\n",
    "    print(model.reactions.get_by_id(element).name, model.reactions.get_by_id(element), medium_xyl[element])"
   ]
  },
  {
   "cell_type": "code",
   "execution_count": 38,
   "metadata": {},
   "outputs": [
    {
     "name": "stdout",
     "output_type": "stream",
     "text": [
      "Objective\n",
      "=========\n",
      "1.0 r_2111 = 0.06735836314274217\n",
      "\n",
      "Uptake\n",
      "------\n",
      "Metabolite Reaction      Flux  C-Number   C-Flux\n",
      " s_0420[e]   r_1654    0.4816         0    0.00%\n",
      " s_0579[e]   r_1718         1         5  100.00%\n",
      " s_0796[e]   r_1832   0.03407         0    0.00%\n",
      " s_0925[e]   r_1861 2.048E-06         0    0.00%\n",
      " s_1277[e]   r_1992     1.984         0    0.00%\n",
      " s_1324[e]   r_2005    0.4383         0    0.00%\n",
      " s_1374[e]   r_2020 0.0002445         0    0.00%\n",
      " s_1438[e]   r_2049 0.0002674         0    0.00%\n",
      " s_1468[e]   r_2060  0.005794         0    0.00%\n",
      " s_4200[e]   r_4593 8.689E-05         0    0.00%\n",
      " s_4201[e]   r_4594 4.439E-05         0    0.00%\n",
      " s_4202[e]   r_4595 0.0001839         0    0.00%\n",
      " s_4203[e]   r_4596 5.038E-05         0    0.00%\n",
      " s_4204[e]   r_4597  8.37E-05         0    0.00%\n",
      " s_4199[e]   r_4600 1.462E-05         0    0.00%\n",
      "\n",
      "Secretion\n",
      "---------\n",
      "Metabolite Reaction       Flux  C-Number   C-Flux\n",
      " s_0458[e]   r_1672     -2.097         1  100.00%\n",
      " s_0776[e]   r_1814 -4.351E-06         2    0.00%\n",
      " s_0805[e]   r_2100     -3.634         0    0.00%\n",
      " s_0450[c]   r_2111   -0.06736         0    0.00%\n",
      " s_4157[e]   r_4527    -0.2023         0    0.00%\n",
      "\n",
      "xylitol transport 0.0\n",
      "D-xylose transport 1.0\n",
      "xylose reductase 1.0\n",
      "xylitol dehydrogenase (D-xyulose-forming) 1.0\n"
     ]
    }
   ],
   "source": [
    "with model:\n",
    "    model.medium = medium_xyl\n",
    "    solution2 = model.optimize()\n",
    "    print(model.summary())\n",
    "    for key in xyodict.keys():\n",
    "        print(model.reactions.get_by_id(xyodict[key]).name, model.reactions.get_by_id(xyodict[key]).flux)"
   ]
  },
  {
   "cell_type": "markdown",
   "metadata": {},
   "source": [
    "The growth decreases to 0.067 when the growth media insted of having glucose just have xylose. Now it can also be seen how the  the Xylose transport, the XR and the XDH are active, however there is not Xylitol transport. "
   ]
  },
  {
   "cell_type": "code",
   "execution_count": null,
   "metadata": {},
   "outputs": [],
   "source": []
  }
 ],
 "metadata": {
  "kernelspec": {
   "display_name": "Python 3",
   "language": "python",
   "name": "python3"
  },
  "language_info": {
   "codemirror_mode": {
    "name": "ipython",
    "version": 3
   },
   "file_extension": ".py",
   "mimetype": "text/x-python",
   "name": "python",
   "nbconvert_exporter": "python",
   "pygments_lexer": "ipython3",
   "version": "3.8.5"
  }
 },
 "nbformat": 4,
 "nbformat_minor": 4
}
