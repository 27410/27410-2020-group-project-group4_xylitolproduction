{
 "cells": [
  {
   "cell_type": "markdown",
   "metadata": {},
   "source": [
    "# *Saccharomyces cerevisiae* optimization for xylitol production"
   ]
  },
  {
   "cell_type": "markdown",
   "metadata": {},
   "source": [
    "## 1. Introduction"
   ]
  },
  {
   "cell_type": "markdown",
   "metadata": {},
   "source": [
    "### 1.1 Literature review of the compound (<500 words)"
   ]
  },
  {
   "cell_type": "markdown",
   "metadata": {},
   "source": [
    "<div style=\"text-align: justify\">\n",
    "Lignocellulosic biomass transformation into a wide range of valuable chemicals and/or fuels is the primary goal of a biorefinery [1–3]. Xylitol is a commercially viable pentitol that has important applications in the food, odonatological, and pharmaceutical industries, besides acting as a platform chemical for the synthesis of other high-value compounds. This include but are not limited to: ethylene glycol, propylene glycol, glycerol, xylaric acid, and polymers [4]. Xylitol (C5H12O5, M.W., 152.15 gmol$^{–1}$) is a white crystalline powder, with water solubility (at room temperature), sweetness, and a taste similar to sucrose but with lower caloric content, high chemical and microbiological stability, insulin-independent metabolism, which is adequate for diabetic patients, anticariogenic, among other properties [5]. The US Department of Energy (USDOE) included xylitol and sorbitol among the top 12 value-added chemicals produced from lignocellulosic biomass, given the potential market [6].</div>"
   ]
  },
  {
   "cell_type": "markdown",
   "metadata": {},
   "source": [
    "<div style=\"text-align: justify\">\n",
    "Currently, commercial demand for xylitol has been fulfilled owing to the application of a chemical synthesis. This process involves the thermochemical pretreatment of lignocellulosic biomasses to generate a xylose-rich hemicellulosic hydrolysate from which xylose is further purified and then catalytically reduced to xylitol. However, the fermentative xylitol production has gained attention owing to the increased interest in eco-friendly practices as this process allows lower discharge of chemicals into the environment, low carbon prints, less corrosion of reactors, and easy integration with sugarcane/corn-processing mills, as well as a high yield and minimum side products [7,8].\n",
    "</div>"
   ]
  },
  {
   "cell_type": "markdown",
   "metadata": {},
   "source": [
    "<div style=\"text-align: justify\">However major bottlenecks for xylitol bioproduction, regarding feasible and efficient technologies for biomass pretreatment, hemicellulosic hydrolysate fermentation, and xylitol recovery, ensure that this bioprocess is still far from the commercial scale. According to the Research and Market Report [12], the global xylitol market was estimated to be approximately 823.6 million USD, and it is expected to generate more than 1.15 billion USD by 2023. Furthermore, a report by the Grand View Research, Inc. [13] also estimated the global xylitol market to reach 1.37 billion USD (4–5 USD/kg) by 2025. The xylitol market is also picking up in big markets such as Brazil, where it is expected to achieve substantial growth between 2016 and 2023 owing to consumers’ increasing awareness about its benefits to health, and the increase in per capita incomes [14].\n",
    "\n",
    "</div>\n",
    "\n"
   ]
  },
  {
   "cell_type": "markdown",
   "metadata": {},
   "source": [
    "<div style=\"text-align: justify\">Biotechnological xylitol production is based on xylose metabolism in naturally pentose-fermenting microorganisms, mainly yeasts. First, xylose is reduced into xylitol by a NAD(P)H depending XR, followed by xylitol oxidation to xylulose catalyzed by NAD+ depending XDH [74]. Xylulose is the integration point with the nonoxidative phase of The Pentoses Phosphate Pathway (PPP) and with the central metabolism of carbon for the regeneration of cofactors, as well as for the formation of intermediates, energy and cellular biomass. Xylitol accumulation is promoted by restricting the oxygen availability as a redox imbalance of NADH/NAD+  under this condition reduces the activity of XDH [74]. Xylitol accumulation causes carbon flow reduction through the central metabolic pathways, particularly the PPP, which is the main NADPH-producing pathway. Consequently, NADPH regeneration becomes an important challenge in xylitol production by yeasts when XR is exclusively dependent on NADPH [74].</div>"
   ]
  },
  {
   "cell_type": "markdown",
   "metadata": {},
   "source": [
    "### 1.2 Literature review of the cell factory (<500 words)"
   ]
  },
  {
   "cell_type": "markdown",
   "metadata": {},
   "source": [
    "<div style=\"text-align: justify\"> In this project, <i>Saccharomyces cerevisiae</i> has been selected among the multiple yeast cell factories with these pathways present. <i>S.cerevisiae</i> is a robust and proven cell factory, with many models and strains available to choose from. Natural production of xylitol in <i>S.cerevisiae</i> is limited, but with the pertinent modifications high titers are achievable. There is literature (Hernandez et. al) that show strains of modified <i>S.cerevisiae</i> showing high titers up to 47 g$^{–1}$, which are good but there is still room for them to be improved. There are different potential pathways that can be altered in order to tackle this, such as expressing cytosolic XR, along with b-glucosidase, xylosidase and xylanase displayed on cell surface, XDH gene suppression, or overexpressing GRE3 (endogenous aldose reductase) and SUT1 (xylose transporter). The yeast with these modifications have previously shown no metabolization of the produced xylitol, showing 100% bioconversion efficiency, as well as tolerance for high concentrations of the product. The main limiting factor comes from the fact that yeasts with this kind of mutations require cofactors such as gluconic acid, glycerol or, in the case of <i>S.cerevisiae</i>, cellobiose which presents challenges of its own. These include but are not limited to the concentrations or time implementations of the substrate/co substrate to optimize production. (Chen Y, Wu Y, Zhu B, Zhang G, Wei N). On top of that, <i>S.cerevisiae</i> tends to ignore the xylose in the medium when glucose is present.</div>"
   ]
  },
  {
   "cell_type": "markdown",
   "metadata": {},
   "source": [
    "<div style=\"text-align: justify\">\n",
    "As mentioned before, there are other yeasts with the same or similar pathways mentioned previously. Some spp. from the genus <i>Candida</i> like <i>C.maltosa</i> , <i>C. guilliermondii</i> or <i>C.tropicalis</i> have been explored as potential cell factories (Hernandez et. al), and in particular some strains of <i>C.maltosa</i> have shown better titers than <i>S.cerevisiae</i>. But due to the potential food production applications of xylitol, an organism with GRAS status like <i>S.cerevisiae</i> is preferable. \n",
    "</div>\n",
    "<img style=\"margin-left: 15%; margin-top: 5%\" src=\"Pathways.png\">\n",
    "<div style=\"text-align: center\"> <i>Figure 1. Assimilation of xylose and xylitol formation by yeast [Hernández et.al]. The selected enzymes for the metabolic engineering modelling are highlighted in red.</i>"
   ]
  },
  {
   "cell_type": "markdown",
   "metadata": {},
   "source": [
    "## 2. Problem definition (<300 words)"
   ]
  },
  {
   "cell_type": "markdown",
   "metadata": {},
   "source": [
    "<div style=\"text-align: justify\">\n",
    "Even the advances during the recent years in the biotechnological conversion of xylose to xylitol, the high scale production of this product still remains in the hands of the chemical industry through the chemical synthesis from xylose-rich hemicellulose hydrolysates. Biotechnological production of xylitol is not yet cost-competitive, and several challenges have to be overcome to reduce the high capital and operational expenses in all the main steps of the production process (pretreatment, detoxification, fermentation and xylitol recovery) [Hernandez et.al.]. Therefore, developing a more robust organism capable to produce higher yields of xylitol would not only have a positive impact in the fermentation step and xylitol recovery, but would also have a positive impact in the detoxification step, as it would be less relevant for the performance of the process.</div>"
   ]
  },
  {
   "cell_type": "markdown",
   "metadata": {},
   "source": [
    "As mentioned in the previous section the selected microorganism is <i>S.cerevisiae</i> a natural producer of xylitol that is unable in its wild type form to use xylose as carbon source, owing to the low expression of genes involved in the assimilation of this substrate [Rao et.al.]. The metabolic engineering modelling strategies to improve the organism yield will consist on:\n",
    "\n",
    "**1.  <u> Increased XR enzyme**</u>\n",
    "\n",
    "Increasing Xylose reductase (XR) activity (stronger promoter) or an heterologous insertion of the gene should lead to the enhanced expression of xylitol from glucose [Figure 1].\n",
    "\n",
    "**2. <u> Reduced XDH expression** </u>\n",
    "\n",
    "By totally or partially inhibiting xylose dehydrogenase, the xylitol oxidation to D-xylulose can be reduced, further directing the pathway towards xylitol production and excretion to the media.\n",
    "\n",
    "**3. <u> Reduced XDH expression** </u>\n",
    "\n",
    "\n",
    "Combining the enhanced XR activity with increased NADPH availability could further improve xylitol conversion from xylose. Overexpressing G6PDH and 6PGDH  could increase the availability of NADPH during the oxidative phase of PPP.\n",
    "\n",
    "**4. <u> Xylose transporters** </u>\n",
    "\n",
    "\n",
    "The recombinant expression of xylose transporters in the extracellular membrane of <i>S.cerevisiae</i> could improve its availability inside the cell, leading to a higher substrate concentration in the pathway."
   ]
  },
  {
   "cell_type": "markdown",
   "metadata": {},
   "source": [
    "## 3. *If Project category II:* Selection and assessment of existing GSM (<500 words)"
   ]
  },
  {
   "cell_type": "markdown",
   "metadata": {},
   "source": [
    "<div style=\"text-align: justify\">\n",
    "\n",
    "In the era of big data, commutation models are instrumental for turning different sources of data into knowledge [2Y8]. Genome scale metabolic models (GEMs) connect genes, proteins and reactions, enabling metabolic and phenotypic predictions based on specified constraints[5Y8]. \n",
    "S. cerevisiae is widely used cell factory and is extensively used as a model organism in basic biological and medical research [14Y8]. With strong research interest on yeast, the relevant GEMs have been under constant modifications and improvements since their first publications[17Y8]. For this project will be used the last east release of the consensus GEM of S. cerevisiae, Yeast8. Traditional GEMs only consist of reaction and their related gene and protein identifiers, and therefore cannot accurately predict cellular phenotypes under variated conditions. Recently, enzyme constraints and protein 3D structures[27Y8] have been integrated expanding the ability of applications. Yeast8 also contains a model ecosystem around this GEM, including ecYeast8, panYeast8 and coreYeast8 representing the metabolic networks of 1011 S. cerevisiae strains, also as proYeast8 representing the 3d protein structures. Yeast8 is an improvement from the previous version Yeast7. To improve the genome coverage, the addition of several genes from iSce926 [31Y8] (S. cerevisiae genome-scale model) was needed, also with the collection of all functional gene annotations of S. cerevisiae form SGD, BioCyc, Reactome, KEEG and UniProt to update the gene-protein-reaction relations.  \n",
    "The Yeast8 model has 4058 reactions and 2742 metabolites to work with. \n"
   ]
  },
  {
   "cell_type": "code",
   "execution_count": null,
   "metadata": {},
   "outputs": [],
   "source": []
  },
  {
   "cell_type": "markdown",
   "metadata": {},
   "source": [
    "## 4. Computer-Aided Cell Factory Engineering (<1500 words if Category II project; <500 words for Category I project)"
   ]
  },
  {
   "cell_type": "markdown",
   "metadata": {},
   "source": [
    "## 5. Discussion (<500 words)"
   ]
  },
  {
   "cell_type": "markdown",
   "metadata": {},
   "source": [
    "## 6. Conclusion (<200 words)"
   ]
  },
  {
   "cell_type": "markdown",
   "metadata": {},
   "source": [
    "## References"
   ]
  },
  {
   "cell_type": "code",
   "execution_count": null,
   "metadata": {},
   "outputs": [],
   "source": []
  }
 ],
 "metadata": {
  "kernelspec": {
   "display_name": "Python 3",
   "language": "python",
   "name": "python3"
  },
  "language_info": {
   "codemirror_mode": {
    "name": "ipython",
    "version": 3
   },
   "file_extension": ".py",
   "mimetype": "text/x-python",
   "name": "python",
   "nbconvert_exporter": "python",
   "pygments_lexer": "ipython3",
   "version": "3.8.5"
  }
 },
 "nbformat": 4,
 "nbformat_minor": 4
}
