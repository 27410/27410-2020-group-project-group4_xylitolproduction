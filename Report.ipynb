{
 "cells": [
  {
   "cell_type": "markdown",
   "metadata": {},
   "source": [
    "# *Saccharomyces cerevisiae* optimization for xylitol production"
   ]
  },
  {
   "cell_type": "markdown",
   "metadata": {},
   "source": [
    "## 1. Introduction"
   ]
  },
  {
   "cell_type": "markdown",
   "metadata": {},
   "source": [
    "### 1.1 Literature review of the compound (<500 words)"
   ]
  },
  {
   "cell_type": "markdown",
   "metadata": {},
   "source": [
    "<div style=\"text-align: justify\">\n",
    "Lignocellulosic biomass transformation into a wide range of valuable chemicals and/or fuels is the primary goal of a biorefinery [1–3]. Xylitol is a commercially viable pentitol that has important applications in the food, odonatological, and pharmaceutical industries, besides acting as a platform chemical for the synthesis of other high-value compounds. This include but are not limited to: ethylene glycol, propylene glycol, glycerol, xylaric acid, and polymers [4]. Xylitol (C5H12O5, M.W., 152.15 gmol$^{–1}$) is a white crystalline powder, with water solubility (at room temperature), sweetness, and a taste similar to sucrose but with lower caloric content, high chemical and microbiological stability, insulin-independent metabolism, which is adequate for diabetic patients, anticariogenic, among other properties [5]. The US Department of Energy (USDOE) included xylitol and sorbitol among the top 12 value-added chemicals produced from lignocellulosic biomass, given the potential market [6].</div>"
   ]
  },
  {
   "cell_type": "markdown",
   "metadata": {},
   "source": [
    "<div style=\"text-align: justify\">\n",
    "According to the Research and Market Report [7], the global xylitol market was estimated to be approximately 823.6 million USD, and it is expected to generate more than 1.15 billion USD by 2023. Furthermore, a report by the Grand View Research, Inc. [8] also estimated the global xylitol market to reach 1.37 billion USD by 2025. The xylitol market is also picking up in big markets such as Brazil, where it is expected to achieve substantial growth between 2016 and 2023 owing to consumers’ increasing awareness about its benefits to health, and the increase in per capita incomes [8]. Currently, commercial demand for xylitol has been fulfilled by production with chemical synthesis by companies suchs as DuPont. This process involves the thermochemical pretreatment of lignocellulosic biomasses such as birch bark to generate a xylose-rich hemicellulosic hydrolysate from which xylose is further purified and then catalytically reduced to xylitol. The purification process however is very expensive due to high amounts of xylose, setting the current market price at around 8-10 USD/kg. With a growing industrial interest and demand, the fermentative xylitol production has gained attention owing to the increased interest in eco-friendly practices as this process allows lower discharge of chemicals into the environment, low carbon prints, less corrosion of reactors, and easy integration with sugarcane/corn-processing mills, as well as a high yield and minimum side products [9, 10].The major bottlenecks for xylitol bioproduction like the absence of feasible and efficient technologies for biomass pretreatment, hemicellulosic hydrolysate fermentation, and complex xylitol recovery, ensure that this bioprocess is still far from the commercial scale. \n",
    "</div>"
   ]
  },
  {
   "cell_type": "markdown",
   "metadata": {},
   "source": [
    "<div style=\"text-align: justify\">Biotechnological xylitol production is based on xylose metabolism in naturally pentose-fermenting microorganisms, mainly by yeasts that have wild type production like <i>Candida sp.</i> or <i>Kluyveromyces marxianus</i>, but also other more traditional modofied cell factories such as <i>Escherichia coli</i> or <i>Saccharomyces cerevisiae</i>. First, xylose is reduced into xylitol by a NAD(P)H depending XR, followed by xylitol oxidation to xylulose catalyzed by NAD+ depending XDH [11]. Xylulose is the integration point with the nonoxidative phase of The Pentoses Phosphate Pathway (PPP) and with the central metabolism of carbon for the regeneration of cofactors, as well as for the formation of intermediates, energy and cellular biomass. Xylitol accumulation is promoted by restricting the oxygen availability as a redox imbalance of NADH/NAD+  under this condition reduces the activity of XDH [11]. Xylitol accumulation causes carbon flow reduction through the central metabolic pathways, particularly the PPP, which is the main NADPH-producing pathway. Consequently, NADPH regeneration becomes an important challenge in xylitol production by yeasts when XR is exclusively dependent on NADPH [11].</div>"
   ]
  },
  {
   "cell_type": "markdown",
   "metadata": {},
   "source": [
    "### 1.2 Literature review of the cell factory (<500 words)"
   ]
  },
  {
   "cell_type": "markdown",
   "metadata": {},
   "source": [
    "<div style=\"text-align: justify\"> In this project, <i>Saccharomyces cerevisiae</i> has been selected among the multiple yeast cell factories with these pathways present. <i>S.cerevisiae</i> is a robust and proven cell factory, with many models and strains available to choose from. Natural production of xylitol in <i>S.cerevisiae</i> is limited, but with the pertinent modifications high titers are achievable. There is literature [12] that show strains of modified <i>S.cerevisiae</i> showing high titers up to 47 g$^{–1}$, which are good but there is still room for them to be improved. There are different potential pathways that can be altered in order to tackle this, such as expressing cytosolic XR, along with b-glucosidase, xylosidase and xylanase displayed on cell surface, XDH gene suppression, or overexpressing GRE3 (endogenous aldose reductase) and SUT1 (xylose transporter). The yeast with these modifications have previously shown no metabolization of the produced xylitol, showing 100% bioconversion efficiency, as well as tolerance for high concentrations of the product. The main limiting factor comes from the fact that yeasts with this kind of mutations require cofactors such as gluconic acid, glycerol or, in the case of <i>S.cerevisiae</i>, cellobiose which presents challenges of its own. These include, but are not limited to, the concentrations or time implementations of the substrate/co substrate to optimize production. [13] On top of that, <i>S.cerevisiae</i> tends to ignore the xylose in the medium when glucose is present.</div>"
   ]
  },
  {
   "cell_type": "markdown",
   "metadata": {},
   "source": [
    "<div style=\"text-align: justify\">\n",
    "As mentioned before, there are other yeasts with the same or similar pathways mentioned previously. Some spp. from the genus <i>Candida</i> like <i>C.maltosa</i> , <i>C. guilliermondii</i> or <i>C.tropicalis</i> have been explored as potential cell factories [12], and in particular some strains of <i>C.maltosa</i> have shown better titers than <i>S.cerevisiae</i>. But due to the potential food production applications of xylitol, an organism with GRAS status like <i>S.cerevisiae</i> is preferable. \n",
    "</div>\n",
    "<img style=\"margin-left: 15%; margin-top: 5%\" src=\"Pathways.png\">\n",
    "<div style=\"text-align: center\"> <i>Figure 1. Assimilation of xylose and xylitol formation by yeast [12]. The selected enzymes for the metabolic engineering modelling are highlighted in red.</i>"
   ]
  },
  {
   "cell_type": "markdown",
   "metadata": {},
   "source": [
    "## 2. Problem definition (<300 words)"
   ]
  },
  {
   "cell_type": "markdown",
   "metadata": {},
   "source": [
    "<div style=\"text-align: justify\">\n",
    "Even the advances during the recent years in the biotechnological conversion of xylose to xylitol, the high scale production of this product still remains in the hands of the chemical industry through the chemical synthesis from xylose-rich hemicellulose hydrolysates. Biotechnological production of xylitol is not yet cost-competitive, and several challenges have to be overcome to reduce the high capital and operational expenses in all the main steps of the production process (pretreatment, detoxification, fermentation and xylitol recovery) [12]. Therefore, developing a more robust organism capable to produce higher yields of xylitol would not only have a positive impact in the fermentation step and xylitol recovery, but would also have a positive impact in the detoxification step, as it would be less relevant for the performance of the process.</div>"
   ]
  },
  {
   "cell_type": "markdown",
   "metadata": {},
   "source": [
    "As mentioned in the previous section the selected microorganism is <i>S.cerevisiae</i> a natural producer of xylitol that is unable in its wild type form to use xylose as carbon source, owing to the low expression of genes involved in the assimilation of this substrate [10]. The metabolic engineering modelling strategies to improve the organism yield will consist on:\n",
    "\n",
    "**1.  <u> Increased XR enzyme**</u>\n",
    "\n",
    "Increasing Xylose reductase (XR) activity (stronger promoter) or an heterologous insertion of the gene should lead to the enhanced expression of xylitol from xylose [Figure 1].\n",
    "\n",
    "**2. <u> Reduced XDH expression** </u>\n",
    "\n",
    "By totally or partially inhibiting xylose dehydrogenase, the xylitol oxidation to D-xylulose can be reduced, further directing the pathway towards xylitol production and excretion to the media.\n",
    "\n",
    "**3. <u> Cofactor availability** </u>\n",
    "\n",
    "\n",
    "Combining the enhanced XR activity with increased NADPH availability could further improve xylitol conversion from xylose. Overexpressing G6PDH and 6PGDH  could increase the availability of NADPH during the oxidative phase of PPP.\n",
    "\n",
    "**4. <u> Xylose transporters** </u>\n",
    "\n",
    "\n",
    "The recombinant expression of xylose transporters in the extracellular membrane of <i>S.cerevisiae</i> could improve its availability inside the cell, leading to a higher substrate concentration in the pathway."
   ]
  },
  {
   "cell_type": "markdown",
   "metadata": {},
   "source": [
    "## 3. *If Project category II:* Selection and assessment of existing GSM (<500 words)"
   ]
  },
  {
   "cell_type": "markdown",
   "metadata": {},
   "source": [
    "<div style=\"text-align: justify\">\n",
    "\n",
    "In the era of big data, commutation models are instrumental for turning different sources of data into knowledge [2Y8]. Genome scale metabolic models (GEMs) connect genes, proteins and reactions, enabling metabolic and phenotypic predictions based on specified constraints[5Y8]. \n",
    "<i>S. cerevisiae</i> is widely used cell factory and is extensively used as a model organism in basic biological and medical research [14Y8]. With strong research interest on yeast, the relevant GEMs have been under constant modifications and improvements since their first publications[17Y8]. For this project will be used the last east release of the consensus GEM of <i>S. cerevisiae</i>, Yeast8. Traditional GEMs only consist of reaction and their related gene and protein identifiers, and therefore cannot accurately predict cellular phenotypes under variated conditions. Recently, enzyme constraints and protein 3D structures[27Y8] have been integrated expanding the ability of applications. Yeast8 also contains a model ecosystem around this GEM, including ecYeast8, panYeast8 and coreYeast8 representing the metabolic networks of 1011 <i>S. cerevisiae</i> strains, also as proYeast8 representing the 3d protein structures. Yeast8 is an improvement from the previous version Yeast7. To improve the genome coverage, the addition of several genes from iSce926 [31Y8] (<i>S. cerevisiae</i> genome-scale model) was needed, also with the collection of all functional gene annotations of <i>S. cerevisiae</i> form SGD, BioCyc, Reactome, KEEG and UniProt to update the gene-protein-reaction relations.  \n",
    "The Yeast8 model has 4058 reactions and 2742 metabolites to work with. </div>\n"
   ]
  },
  {
   "cell_type": "code",
   "execution_count": null,
   "metadata": {},
   "outputs": [],
   "source": []
  },
  {
   "cell_type": "markdown",
   "metadata": {},
   "source": [
    "## 4. Computer-Aided Cell Factory Engineering (<1500 words if Category II project; <500 words for Category I project)"
   ]
  },
  {
   "cell_type": "markdown",
   "metadata": {},
   "source": [
    "1. Load the model Yeast8"
   ]
  },
  {
   "cell_type": "code",
   "execution_count": 1,
   "metadata": {},
   "outputs": [],
   "source": [
    "from cobra.io import read_sbml_model\n",
    "from cobra import Reaction, Metabolite\n",
    "\n",
    "model = read_sbml_model('yeastGEM.xml')"
   ]
  },
  {
   "cell_type": "markdown",
   "metadata": {},
   "source": [
    "2. Running model with Standard Medium"
   ]
  },
  {
   "cell_type": "code",
   "execution_count": 11,
   "metadata": {},
   "outputs": [],
   "source": [
    "# optimize for biomass growth with Standard Medium"
   ]
  },
  {
   "cell_type": "code",
   "execution_count": 12,
   "metadata": {},
   "outputs": [
    {
     "name": "stdout",
     "output_type": "stream",
     "text": [
      "0.08374778664999834\n"
     ]
    }
   ],
   "source": [
    "model.optimize()                               \n",
    "print(model.objective.value)"
   ]
  },
  {
   "cell_type": "code",
   "execution_count": 31,
   "metadata": {},
   "outputs": [],
   "source": [
    "#Create reaction dictionary"
   ]
  },
  {
   "cell_type": "code",
   "execution_count": 13,
   "metadata": {},
   "outputs": [],
   "source": [
    "xyodict = {1: \"r_2105\", # xylitol transport\n",
    "           2: \"r_1719\", # D-xylose transport\n",
    "           3: \"r_1093\", # xylose reductase\n",
    "           4: \"r_1092\"  # xylitol dehydrogenase\n",
    "          }"
   ]
  },
  {
   "cell_type": "code",
   "execution_count": 14,
   "metadata": {},
   "outputs": [],
   "source": [
    "#Setting different medium conditions. The elements in the different mediums can be displayed replacing the pertinent number in the bottom code"
   ]
  },
  {
   "cell_type": "code",
   "execution_count": 41,
   "metadata": {},
   "outputs": [
    {
     "name": "stdout",
     "output_type": "stream",
     "text": [
      "ammonium exchange r_1654: s_0420[e] <=>  1000.0\n",
      "D-glucose exchange r_1714: s_0565[e] <=>  1.0\n",
      "H+ exchange r_1832: s_0796[e] <=>  1000.0\n",
      "iron(2+) exchange r_1861: s_0925[e] <=>  1000.0\n",
      "oxygen exchange r_1992: s_1277[e] <=>  1000.0\n",
      "phosphate exchange r_2005: s_1324[e] <=>  1000.0\n",
      "potassium exchange r_2020: s_1374[e] <=>  1000.0\n",
      "sodium exchange r_2049: s_1438[e] <=>  1000.0\n",
      "sulphate exchange r_2060: s_1468[e] <=>  1000.0\n",
      "water exchange r_2100: s_0805[e] <=>  1000.0\n",
      "chloride exchange r_4593: s_4200[e] <=>  1000.0\n",
      "Cu2(+) exchange r_4594: s_4201[e] <=>  1000.0\n",
      "Mn(2+) exchange r_4595: s_4202[e] <=>  1000.0\n",
      "Zn(2+) exchange r_4596: s_4203[e] <=>  1000.0\n",
      "Mg(2+) exchange r_4597: s_4204[e] <=>  1000.0\n",
      "Ca(2+) exchange r_4600: s_4199[e] <=>  1000.0\n"
     ]
    }
   ],
   "source": [
    "medium_glu = model.medium  # 100% glucose as carbon source in the medium\n",
    "\n",
    "medium_xyl = model.medium  # 100% xylose as carbon source in the medium\n",
    "with model: \n",
    "    medium_xyl['r_1714'] = 0.0\n",
    "    medium_xyl['r_1718'] = 1.0\n",
    "\n",
    "medium_50 = model.medium # 50% glucose and 50% xylose as carbon sources in the medium\n",
    "with model: \n",
    "    medium_50['r_1714'] = 1.0\n",
    "    medium_50['r_1718'] = 1.0\n",
    "    \n",
    "medium_glu15 = model.medium # 75% glucose and 25% xylose as carbon sources in the medium\n",
    "with model: \n",
    "    medium_glu15['r_1714'] = 1.5\n",
    "    medium_glu15['r_1718'] = 0.5\n",
    "    \n",
    "medium_xyl15 = model.medium # 25% glucose and 75% xylose as carbon sources in the medium\n",
    "with model: \n",
    "    medium_xyl15['r_1714'] = 0.5\n",
    "    medium_xyl15['r_1718'] = 1.5\n",
    "    \n",
    "medium_glu12 = model.medium # 60% glucose and 40% xylose as carbon sources in the medium\n",
    "with model: \n",
    "    medium_glu12['r_1714'] = 1.2\n",
    "    medium_glu12['r_1718'] = 0.8\n",
    "\n",
    "medium_xyl12 = model.medium # 40% glucose and 60% xylose as carbon sources in the medium\n",
    "with model: \n",
    "    medium_xyl12['r_1714'] = 0.8\n",
    "    medium_xyl12['r_1718'] = 1.2\n",
    "\n",
    "for element in medium_glu.keys():\n",
    "    print(model.reactions.get_by_id(element).name, model.reactions.get_by_id(element), medium_glu[element])"
   ]
  },
  {
   "cell_type": "markdown",
   "metadata": {},
   "source": [
    "<div style=\"text-align: justify\">\n",
    "Run the model with the selected medium. In this model there are already included a combination of the different mutations that have been proven to work individually with promise to improve xylitol production. This include upregulation of a xylose transporter form the medium to inside of the cell, an upregulation of the xylose reductase, for a higher xylitol conversion, a knock out of the gene XDH in the PPP pathway to prevent xylitol to keep going down the pathway, and an upregulation of the xylitol transporter. In the code below, we can combine these modifications with mediums with different composition, using alternative proportions of the two selected carbon sources: glucose and xylose. The idea behind this experiment is to determine the best conditions for xylitol production while still having cell growth. </div>"
   ]
  },
  {
   "cell_type": "code",
   "execution_count": 59,
   "metadata": {},
   "outputs": [
    {
     "name": "stdout",
     "output_type": "stream",
     "text": [
      "Objective\n",
      "=========\n",
      "1.0 r_2104 = 1.1999999999999993\n",
      "\n",
      "Uptake\n",
      "------\n",
      "Metabolite Reaction   Flux  C-Number  C-Flux\n",
      " s_0565[e]   r_1714 0.2545         6  20.28%\n",
      " s_0579[e]   r_1718    1.2         5  79.72%\n",
      " s_1277[e]   r_1992 0.1545         0   0.00%\n",
      " s_0805[e]   r_2100 0.2911         0   0.00%\n",
      "\n",
      "Secretion\n",
      "---------\n",
      "Metabolite Reaction    Flux  C-Number  C-Flux\n",
      " s_0458[e]   r_1672    -0.6         1   7.97%\n",
      " s_0796[e]   r_1832 -0.3089         0   0.00%\n",
      " s_1400[e]   r_2033 -0.3089         3  12.31%\n",
      " s_1567[e]   r_2104    -1.2         5  79.72%\n",
      "\n",
      "xylitol transport -1.1999999999999993\n",
      "D-xylose transport 1.2\n",
      "xylose reductase 1.2\n",
      "xylitol dehydrogenase (D-xyulose-forming) 0.0\n",
      "growth 0.0\n",
      "D-glucose exchange -0.2544571932921447\n",
      "glucose transport 0.2544571932921447\n"
     ]
    }
   ],
   "source": [
    "with model:\n",
    "    # model.medium = medium_glu  # 100% glucose as carbon source in the medium\n",
    "    # model.medium = medium_xyl # 100% xylose as carbon source in the medium\n",
    "    # model.medium = medium_glu15 # 75% glucose and 25% xylose as carbon sources in the medium\n",
    "    # model.medium = medium_50 # 50% glucose and 50% xylose as carbon sources in the medium\n",
    "    # model.medium = medium_xyl15 # 25% glucose and 75% xylose as carbon sources in the medium\n",
    "    # model.medium = medium_glu12 # 60% glucose and 40% xylose as carbon sources in the medium\n",
    "    model.medium = medium_xyl12 # 40% glucose and 60% xylose as carbon sources in the medium\n",
    "    ## regulations\n",
    "    model.reactions.r_1719.bounds = (0,10) # regulation for xylose transporter\n",
    "    model.reactions.r_1093.bounds = (0,10) # regulation for xylose reductase\n",
    "    model.genes.YLR070C.knock_out() # knockout for xylitol dehydrogenase\n",
    "    model.reactions.r_2104.bounds = (0,2) # regulation for xylitol transporter\n",
    "\n",
    "    \n",
    "    ## solve model\n",
    "    model.objective = model.reactions.r_2104 # objective is maximum xylitol production\n",
    "    solution3 = model.optimize()\n",
    "    print(model.summary())\n",
    "    for key in xyodict.keys():\n",
    "        print(model.reactions.get_by_id(xyodict[key]).name, model.reactions.get_by_id(xyodict[key]).flux)\n",
    "    print(model.reactions.r_2111.name, model.reactions.r_2111.flux)\n",
    "    print(model.reactions.r_1714.name, model.reactions.r_1714.flux)\n",
    "    print(model.reactions.r_1166.name, model.reactions.r_1166.flux)"
   ]
  },
  {
   "cell_type": "markdown",
   "metadata": {},
   "source": [
    "<div style=\"text-align: justify\">\n",
    "We can see how when the model is run with the standard medium medium_glu (no xylose is present) the xylitol transporter, xylose transporter, xylose reductase (XR) and xylitol dehydrogenase (XDH) have flux equal to 0. That means that with out Xylose in the media all the pathway is not active. We can also stablish that when the medium only has xylose, reaction r_2111 associated to cell growth is 0, suggesting that in this medium the cells even though they are able to produce xylitol, they are not able to multiply with the selected mutations. In fact the pure xylose medium with all of the mutations included results in the inhabilty of the cell to survive, while when we combine the mutants with a hybrid medium of xylose/glucose they are able to grow and produce xylitol in at a better rate than the unmodified strain, depending to the media composition. The code above allows the exploration of combinations of mutations and media conditions. The best observed results vary depending the objective you want to achieve. When all of the modifications designed for improving the xylitol production are in place (upregulation of the xylose transporter, upregulation of the xylose reductase (XR), knock out of the xylitol dehydrogease (XDH), and up regulation of the xylitol transporter), the best results for growth (r_2111) in combination with maximun xylitol production (r_2104) vary depending on what is prioritariced. The presence of glucose is directly related to an increase in growth, while, with all of this mutations in place, all of the xyolse intake seems to go towards xylitol production and exportation. This corresponds to previous assestments seen in the literature [12], where the possibility is stated of a bioconversion of up to 99%. </div>"
   ]
  },
  {
   "cell_type": "markdown",
   "metadata": {},
   "source": [
    "<div style=\"text-align: justify\">\n",
    "However, if we take a look back at Fig. 1, there is a major bottleneck that has not been adressed yet, and that is the presence and availability of the co-factor that mediates the conversion of xylose to xylitol. Without the presence of NADPH, the overexpressed xylose reductase is going to consume the available NADPH present in the cell at a higher rate. The regeneration of this metabolite is linked to the oxidative phase of the PPP, and thus depends of the glucose availability. In this pathway G6PDH converts gluose 6P into 6P-glucanate, and 6PGDH converts it into ribose-5P. In the process, spent NADP gets transformed into NADPH again to be used by XR. The next experiment is going to try to adress how the regulation of this cofators combined with glucose availability can affect the xylitol production. </div>"
   ]
  },
  {
   "cell_type": "code",
   "execution_count": 61,
   "metadata": {},
   "outputs": [
    {
     "name": "stdout",
     "output_type": "stream",
     "text": [
      "Objective\n",
      "=========\n",
      "1.0 r_2111 = 0.10108079686385578\n",
      "\n",
      "Uptake\n",
      "------\n",
      "Metabolite Reaction      Flux  C-Number   C-Flux\n",
      " s_0420[e]   r_1654    0.7227         0    0.00%\n",
      " s_0565[e]   r_1714       1.2         6  100.00%\n",
      " s_0796[e]   r_1832   0.05112         0    0.00%\n",
      " s_0925[e]   r_1861 3.174E-06         0    0.00%\n",
      " s_1277[e]   r_1992     2.674         0    0.00%\n",
      " s_1324[e]   r_2005    0.6577         0    0.00%\n",
      " s_1374[e]   r_2020 0.0003669         0    0.00%\n",
      " s_1438[e]   r_2049 0.0004013         0    0.00%\n",
      " s_1468[e]   r_2060  0.008694         0    0.00%\n",
      " s_4200[e]   r_4593 0.0001304         0    0.00%\n",
      " s_4201[e]   r_4594 6.661E-05         0    0.00%\n",
      " s_4202[e]   r_4595  0.000276         0    0.00%\n",
      " s_4203[e]   r_4596 7.561E-05         0    0.00%\n",
      " s_4204[e]   r_4597 0.0001256         0    0.00%\n",
      " s_4199[e]   r_4600 2.193E-05         0    0.00%\n",
      "\n",
      "Secretion\n",
      "---------\n",
      "Metabolite Reaction      Flux  C-Number   C-Flux\n",
      " s_0458[e]   r_1672    -2.843         1  100.00%\n",
      " s_0776[e]   r_1814 -6.53E-06         2    0.00%\n",
      " s_0805[e]   r_2100     -5.15         0    0.00%\n",
      " s_0450[c]   r_2111   -0.1011         0    0.00%\n",
      " s_4157[e]   r_4527   -0.3036         0    0.00%\n",
      "\n",
      "xylitol transport 0.0\n",
      "D-xylose transport 0.0\n",
      "xylose reductase 0.0\n",
      "xylitol dehydrogenase (D-xyulose-forming) 0.0\n",
      "growth 0.10108079686385578\n",
      "D-glucose exchange -1.2\n",
      "glucose transport 1.2\n"
     ]
    }
   ],
   "source": [
    "with model:\n",
    "    # model.medium = medium_glu  # 100% glucose as carbon source in the medium\n",
    "    # model.medium = medium_xyl # 100% xylose as carbon source in the medium\n",
    "    # model.medium = medium_glu15 # 75% glucose and 25% xylose as carbon sources in the medium\n",
    "    # model.medium = medium_50 # 50% glucose and 50% xylose as carbon sources in the medium\n",
    "    # model.medium = medium_xyl15 # 25% glucose and 75% xylose as carbon sources in the medium\n",
    "    model.medium = medium_glu12 # 60% glucose and 40% xylose as carbon sources in the medium\n",
    "    # model.medium = medium_xyl12 # 40% glucose and 60% xylose as carbon sources in the medium\n",
    "    ## regulations\n",
    "    model.reactions.r_1719.bounds = (0,10) # regulation for xylose transporter\n",
    "    model.reactions.r_1093.bounds = (0,10) # regulation for xylose reductase\n",
    "    model.genes.YLR070C.knock_out() # knockout for xylitol dehydrogenase\n",
    "    model.reactions.r_2104.bounds = (0,2) # regulation for xylitol transporter\n",
    "    model.reactions.r_0889.bounds = (0,10) # 6-phosphogluconate dehydrogenase\n",
    "    model.reactions.r_0466.bounds = (0,10) # Glucose-6-phosphate dehydrogenase\n",
    "\n",
    "    \n",
    "    ## solve model\n",
    "    # model.objective = model.reactions.r_2104 # objective is maximum xylitol production\n",
    "    solution3 = model.optimize()\n",
    "    print(model.summary())\n",
    "    for key in xyodict.keys():\n",
    "        print(model.reactions.get_by_id(xyodict[key]).name, model.reactions.get_by_id(xyodict[key]).flux)\n",
    "    print(model.reactions.r_2111.name, model.reactions.r_2111.flux)\n",
    "    print(model.reactions.r_1714.name, model.reactions.r_1714.flux)\n",
    "    print(model.reactions.r_1166.name, model.reactions.r_1166.flux)"
   ]
  },
  {
   "cell_type": "markdown",
   "metadata": {},
   "source": [
    "4.1 We assess the viability of the different media conditions combining xylose and glucose to see what is the best combination. Conclusions: without the presence of glucose, there is no growth at all. The best combination is...\n",
    "\n",
    "4.2 We designed the mutants. We knock out the XDH gene, the main advantage is that all of the xylose we introduce into the cell gets converted into xylitol, so it does not go further into the 5PP. \n",
    "\n",
    "4.3 On top of that, with the upregulation of the xylitol transporters we obtain the critical information that the over expression level is directly related to production, it is proportional. \n",
    "\n",
    "4.4 The next step is the NADPH/NADP+ cofactor mutant and see how it behaves \n",
    "\n",
    "4.5 Then we have to simulate the batch system on the enzymatic Yeast8 model in order to see if the modifications that we have done to the organism make sense when time is added into the equation. With this maybe we could end out calculating the improvement in productivity with the model. We should discuss the advantages of the enzymatic Yeast8 model on the GSM assessment. \n"
   ]
  },
  {
   "cell_type": "markdown",
   "metadata": {},
   "source": [
    "\n",
    "<img style=\"margin-left: 15%; margin-top: 5%\" src=\"Strategy_overview.png\">\n",
    "<div style=\"text-align: center\"> <i>Figure 2. Overview of the project strategy: Medium optimization for growth and production (1); Knockout of XDH, upregulation of xylitol tansporters, and cofactor manipulation (2); Fermentation simulation (3) </i></div>"
   ]
  },
  {
   "cell_type": "markdown",
   "metadata": {},
   "source": [
    "## 5. Discussion (<500 words)"
   ]
  },
  {
   "cell_type": "markdown",
   "metadata": {},
   "source": [
    "## 6. Conclusion (<200 words)"
   ]
  },
  {
   "cell_type": "markdown",
   "metadata": {},
   "source": [
    "## References"
   ]
  },
  {
   "cell_type": "markdown",
   "metadata": {},
   "source": [
    "[1] Menon V, Rao M. Trends in bioconversion of lignocellulose: biofuels, platform chemicals & biorefinery concept. Prog Energ Combust Sci. 2012;38:522–550.\n",
    "\n",
    "[2] Mohan SV, Nikhil GN, Chiranjeevi P. Waste biorefinery models towards sustainable circular bioeconomy. Critical review and future perspectives. Bioresour Technol. 2016;215:2–12.\n",
    "\n",
    "[3] Erickson B, Nelson JE, Winters P. Perspective on opportunities in industrial biotechnology in renewable chemicals. Biotechnol J. 2012;7:176–185.\n",
    "\n",
    "[4] Silva SS, Chandel AK. D-Xylitol. Fermentative production, application and commercialization. Berlin (Germany): Springer-Verlag; 2012.\n",
    "\n",
    "[5] Mussatto SI. Application of xylitol on food formulations and benefits for health. In: Silva SS, Chandel AK, editors. D-Xylitol. Fermentative production, application and commercialization. Berlin (Germany): Springer-Verlag; 2012. p. 309–324.\n",
    "\n",
    "[6] U.S. Department of Energy. U.S. billion-ton update: biomass supply for a bioenergy and bioproducts industry. In: Perlack RD, Stokes BJ, editors. Agricultural and biosystems engineering technical reports and white papers. ORNL/TM- 2011/224. Oak Ridge (TN); 2011. p. 227.\n",
    "\n",
    "[7] Grand View Research, Inc. Xylitol Market Size Worth 1.37 Billion USD By 2025 [updated 2017 May; cited 2018 Feb 16]. Available from: https://www.grandviewresearch.com/press-release/global-xylitol-market\n",
    "\n",
    "[8] Fractovia Market and Trending News. Booming food & beverages industry to drive xylitol market growth over 2016-2023: global revenue to hit USD 1.1 billion by 2023. [updated 2016 Dec; cited 2018 Feb 16]. Available from: https://www.fractovia.org/news/industry-research-report/xylitol-market\n",
    "\n",
    "[9] Salgado JM, Converti A, Dom\u0001ınguez JM. Fermentation strategies explored for xylitol production. In: Silva SS, Chandel AK, editors. D-xylitol. Fermentative production, application and commercialization. Berlin (Germany): Springer-Verlag; 2012. p. 161–198.\n",
    "\n",
    "[10] Rao VL, Goli JK, Gentela J, et al. Bioconversion of lignocellulosic biomass to xylitol: an overview. Bioresour Technol. 2016;213:299–310.\n",
    "\n",
    "[11] Granstrom J, Izumori K, Leisola M. A rare sugar xylitol. Part I: the biochemistry and biosynthesis of xylitol. Appl Microbiol Biotechnol. 2007;74:277–281.\n",
    "\n",
    "[12] Andrés Felipe Hernández-Pérez, Priscila Vaz de Arruda, Luciane Sene, Silvio Silvério da Silva, Anuj Kumar Chandel & Maria das Graças de Almeida Felipe: Xylitol bioproduction: state-of-the-art, industrial paradigm shift, and opportunities for integrated biorefineries, Critical Reviews in Biotechnology; 2019.\n",
    "\n",
    "[13] Chen Y, Wu Y, Zhu B, Zhang G, Wei N (2018) Co-fermentation of cellobiose and xylose by mixed culture of recombinant Saccharomyces cerevisiae and kinetic modeling; 2018.\n"
   ]
  },
  {
   "cell_type": "code",
   "execution_count": null,
   "metadata": {},
   "outputs": [],
   "source": []
  }
 ],
 "metadata": {
  "kernelspec": {
   "display_name": "Python 3",
   "language": "python",
   "name": "python3"
  },
  "language_info": {
   "codemirror_mode": {
    "name": "ipython",
    "version": 3
   },
   "file_extension": ".py",
   "mimetype": "text/x-python",
   "name": "python",
   "nbconvert_exporter": "python",
   "pygments_lexer": "ipython3",
   "version": "3.8.5"
  }
 },
 "nbformat": 4,
 "nbformat_minor": 4
}
